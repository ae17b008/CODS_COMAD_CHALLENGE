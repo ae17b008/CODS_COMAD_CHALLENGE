{
 "cells": [
  {
   "cell_type": "code",
   "execution_count": 1,
   "metadata": {},
   "outputs": [],
   "source": [
    "import pandas as pd\n",
    "import numpy as np\n",
    "import torch\n",
    "import os\n",
    "x = torch.load(os.path.join('..', 'output', 'embeddings', 'train_embeds_videonames_concatenated.pt'))\n",
    "y = x.to_list()\n",
    "y = torch.stack(y)\n",
    "X_full = y.numpy()\n",
    "x = pd.read_csv(os.path.join('..', 'input', 'train.csv'))\n",
    "y_full = x['label'].to_numpy()\n",
    "x = torch.load(os.path.join('..', 'output', 'embeddings', 'test_embeds_videonames_concatenated.pt'))\n",
    "y = x.to_list()\n",
    "y = torch.stack(y)\n",
    "X_test = y.numpy()"
   ]
  },
  {
   "cell_type": "code",
   "execution_count": 8,
   "metadata": {},
   "outputs": [],
   "source": [
    "import xgboost as xgb\n",
    "from xgboost import XGBClassifier\n",
    "from sklearn.model_selection import train_test_split\n",
    "from sklearn.metrics import accuracy_score, f1_score\n",
    "\n",
    "\n",
    "# import packages for hyperparameters tuning\n",
    "from hyperopt import STATUS_OK, Trials, fmin, hp, tpe\n",
    "\n",
    "\n",
    "\n",
    "# Replace X and y with your feature and target data\n",
    "X_train, X_dev, y_train, y_dev = train_test_split(X_full, y_full, test_size=0.1, random_state=42)\n",
    "\n",
    "\n",
    "space={'max_depth': hp.quniform(\"max_depth\", 3, 18, 1),\n",
    "        'gamma': hp.uniform ('gamma', 1,9),\n",
    "        'reg_alpha' : hp.quniform('reg_alpha', 40,180,1),\n",
    "        'reg_lambda' : hp.uniform('reg_lambda', 0,1),\n",
    "        'colsample_bytree' : hp.uniform('colsample_bytree', 0.5,1),\n",
    "        'min_child_weight' : hp.quniform('min_child_weight', 0, 10, 1),\n",
    "        'n_estimators': 100\n",
    "    }\n",
    "\n",
    "\n",
    "def objective(space):\n",
    "    clf=xgb.XGBClassifier(\n",
    "                    n_estimators =space['n_estimators'], max_depth = int(space['max_depth']), gamma = space['gamma'],\n",
    "                    reg_alpha = int(space['reg_alpha']),min_child_weight=int(space['min_child_weight']),\n",
    "                    colsample_bytree=int(space['colsample_bytree']), early_stopping_rounds=10, eval_metric=\"auc\")\n",
    "    \n",
    "    evaluation = [( X_train, y_train), ( X_dev, y_dev)]\n",
    "    \n",
    "    clf.fit(X_train, y_train,\n",
    "            eval_set=evaluation,verbose=False)\n",
    "    \n",
    "\n",
    "    pred = clf.predict(X_dev)\n",
    "    accuracy = accuracy_score(y_dev, pred>0.5)\n",
    "    # calculate f1 score\n",
    "    f1 = f1_score(y_dev, pred>0.5)\n",
    "\n",
    "    print (\"SCORE:\", f1)\n",
    "    return {'loss': -f1, 'status': STATUS_OK }\n",
    "\n"
   ]
  },
  {
   "cell_type": "code",
   "execution_count": 9,
   "metadata": {},
   "outputs": [
    {
     "name": "stdout",
     "output_type": "stream",
     "text": [
      "SCORE:                                                \n",
      "0.0                                                   \n",
      "SCORE:                                                            \n",
      "0.0                                                               \n",
      "SCORE:                                                            \n",
      "0.0                                                               \n",
      "SCORE:                                                            \n",
      "0.0                                                               \n",
      "SCORE:                                                            \n",
      "0.0                                                               \n",
      "SCORE:                                                            \n",
      "0.0                                                               \n",
      "SCORE:                                                            \n",
      "0.0                                                               \n",
      "SCORE:                                                            \n",
      "0.0                                                               \n",
      "SCORE:                                                            \n",
      "0.0                                                               \n",
      "SCORE:                                                            \n",
      "0.0                                                               \n",
      "100%|██████████| 10/10 [00:02<00:00,  3.74trial/s, best loss: -0.0]\n"
     ]
    }
   ],
   "source": [
    "trials = Trials()\n",
    "\n",
    "best_hyperparams = fmin(fn = objective,\n",
    "                        space = space,\n",
    "                        algo = tpe.suggest,\n",
    "                        max_evals = 10,\n",
    "                        trials = trials)"
   ]
  },
  {
   "cell_type": "code",
   "execution_count": 33,
   "metadata": {},
   "outputs": [
    {
     "name": "stdout",
     "output_type": "stream",
     "text": [
      "The best hyperparameters are :  \n",
      "\n",
      "{'colsample_bytree': 0.8089595434805966, 'gamma': 8.402954169930872, 'max_depth': 12.0, 'min_child_weight': 3.0, 'reg_alpha': 103.0, 'reg_lambda': 0.7408520399302297}\n"
     ]
    }
   ],
   "source": [
    "print(\"The best hyperparameters are : \",\"\\n\")\n",
    "print(best_hyperparams)"
   ]
  },
  {
   "cell_type": "code",
   "execution_count": 41,
   "metadata": {},
   "outputs": [],
   "source": [
    "best_hyperparams['max_depth'] = int(best_hyperparams['max_depth'])"
   ]
  },
  {
   "cell_type": "markdown",
   "metadata": {},
   "source": [
    "## Making Predictions"
   ]
  },
  {
   "cell_type": "code",
   "execution_count": 10,
   "metadata": {},
   "outputs": [],
   "source": [
    "# make predictions for test data\n",
    "\n",
    "import pandas as pd\n",
    "import numpy as np\n",
    "import torch\n",
    "import os\n",
    "x = torch.load(os.path.join('..', 'output', 'embeddings', 'train_embeds_videonames_concatenated.pt'))\n",
    "y = x.to_list()\n",
    "y = torch.stack(y)\n",
    "X_full = y.numpy()\n",
    "x = pd.read_csv(os.path.join('..', 'input', 'train.csv'))\n",
    "y_full = x['label'].to_numpy()\n",
    "x = torch.load(os.path.join('..', 'output', 'embeddings', 'test_embeds_videonames_concatenated.pt'))\n",
    "y = x.to_list()\n",
    "y = torch.stack(y)\n",
    "X_test = y.numpy()\n",
    "\n",
    "\n",
    "# Create an XGBoost Classifier\n",
    "xgb_classifier = XGBClassifier(n_estimators=100, random_state=42)\n",
    "\n",
    "# Fit the classifier to the training data\n",
    "xgb_classifier.fit(X_full, y_full)\n",
    "\n",
    "# Make predictions on the test data\n",
    "y_pred = xgb_classifier.predict(X_test)"
   ]
  },
  {
   "cell_type": "code",
   "execution_count": 11,
   "metadata": {},
   "outputs": [],
   "source": [
    "# create a submission file\n",
    "submission = pd.DataFrame({'ID': list(range(1, len(y_pred) + 1)), 'label': y_pred})\n",
    "\n",
    "# save the submission file\n",
    "submission.to_csv(os.path.join('..', 'output', 'xgboost_submission.csv'), index=False)"
   ]
  },
  {
   "cell_type": "code",
   "execution_count": 12,
   "metadata": {},
   "outputs": [
    {
     "data": {
      "text/plain": [
       "614"
      ]
     },
     "execution_count": 12,
     "metadata": {},
     "output_type": "execute_result"
    }
   ],
   "source": [
    "len(y_pred)"
   ]
  },
  {
   "cell_type": "code",
   "execution_count": 46,
   "metadata": {},
   "outputs": [
    {
     "data": {
      "text/plain": [
       "array([0, 0, 0, 0, 0, 0, 0, 0, 0, 0, 0, 0, 0, 0, 0, 0, 0, 0, 0, 0, 0, 0,\n",
       "       0, 0, 0, 0, 0, 0, 0, 0, 0, 0, 0, 0, 0, 0, 0, 0, 0, 0, 0, 0, 0, 0,\n",
       "       0, 0, 0, 0, 0, 0, 0, 0, 0, 0, 0, 0, 0, 0, 0, 0, 0, 0, 0, 0, 0, 0,\n",
       "       0, 0, 0, 0, 0, 0, 0, 0, 0, 0, 0, 0, 0, 0, 0, 0, 0, 0, 0, 0, 0, 0,\n",
       "       0, 0, 0, 0, 0, 0, 0, 0, 0, 0, 0, 0, 0, 0, 0, 0, 0, 0, 0, 0, 0, 0,\n",
       "       0, 0, 0, 0, 0, 0, 0, 0, 0, 0, 0, 0, 0, 0, 0, 0, 0, 0, 0, 0, 0, 0,\n",
       "       0, 0, 0, 0, 0, 0, 0, 0, 0, 0, 0, 0, 0, 0, 0, 0, 0, 0, 0, 0, 0, 0,\n",
       "       0, 0, 0, 0, 0, 0, 0, 0, 0, 0, 0, 0, 0, 0, 0, 0, 0, 0, 0, 0, 0, 0,\n",
       "       0, 0, 0, 0, 0, 0, 0, 0, 0, 0, 0, 0, 0, 0, 0, 0, 0, 0, 0, 0, 0, 0,\n",
       "       0, 0, 0, 0, 0, 0, 0, 0, 0, 0, 0, 0, 0, 0, 0, 0, 0, 0, 0, 0, 0, 0,\n",
       "       0, 0, 0, 0, 0, 0, 0, 0, 0, 0, 0, 0, 0, 0, 0, 0, 0, 0, 0, 0, 0, 0,\n",
       "       0, 0, 0, 0, 0, 0, 0, 0, 0, 0, 0, 0, 0, 0, 0, 0, 0, 0, 0, 0, 0, 0,\n",
       "       0, 0, 0, 0, 0, 0, 0, 0, 0, 0, 0, 0, 0, 0, 0, 0, 0, 0, 0, 0, 0, 0,\n",
       "       0, 0, 0, 0, 0, 0, 0, 0, 0, 0, 0, 0, 0, 0, 0, 0, 0, 0, 0, 0, 0, 0,\n",
       "       0, 0, 0, 0, 0, 0, 0, 0, 0, 0, 0, 0, 0, 0, 0, 0, 0, 0, 0, 0, 0, 0,\n",
       "       0, 0, 0, 0, 0, 0, 0, 0, 0, 0, 0, 0, 0, 0, 0, 0, 0, 0, 0, 0, 0, 0,\n",
       "       0, 0, 0, 0, 0, 0, 0, 0, 0, 0, 0, 0, 0, 0, 0, 0, 0, 0, 0, 0, 0, 0,\n",
       "       0, 0, 0, 0, 0, 0, 0, 0, 0, 0, 0, 0, 0, 0, 0, 0, 0, 0, 0, 0, 0, 0,\n",
       "       0, 0, 0, 0, 0, 0, 0, 0, 0, 0, 0, 0, 0, 0, 0, 0, 0, 0, 0, 0, 0, 0,\n",
       "       0, 0, 0, 0, 0, 0, 0, 0, 0, 0, 0, 0, 0, 0, 0, 0, 0, 0, 0, 0, 0, 0,\n",
       "       0, 0, 0, 0, 0, 0, 0, 0, 0, 0, 0, 0, 0, 0, 0, 0, 0, 0, 0, 0, 0, 0,\n",
       "       0, 0, 0, 0, 0, 0, 0, 0, 0, 0, 0, 0, 0, 0, 0, 0, 0, 0, 0, 0, 0, 0,\n",
       "       0, 0, 0, 0, 0, 0, 0, 0, 0, 0, 0, 0, 0, 0, 0, 0, 0, 0, 0, 0, 0, 0,\n",
       "       0, 0, 0, 0, 0, 0, 0, 0, 0, 0, 0, 0, 0, 0, 0, 0, 0, 0, 0, 0, 0, 0,\n",
       "       0, 0, 0, 0, 0, 0, 0, 0, 0, 0, 0, 0, 0, 0, 0, 0, 0, 0, 0, 0, 0, 0,\n",
       "       0, 0, 0, 0, 0, 0, 0, 0, 0, 0, 0, 0, 0, 0, 0, 0, 0, 0, 0, 0, 0, 0,\n",
       "       0, 0, 0, 0, 0, 0, 0, 0, 0, 0, 0, 0, 0, 0, 0, 0, 0, 0, 0, 0, 0, 0,\n",
       "       0, 0, 0, 0, 0, 0, 0, 0, 0, 0, 0, 0, 0, 0, 0, 0, 0, 0, 0, 0])"
      ]
     },
     "execution_count": 46,
     "metadata": {},
     "output_type": "execute_result"
    }
   ],
   "source": [
    "y_pred"
   ]
  },
  {
   "cell_type": "code",
   "execution_count": 14,
   "metadata": {},
   "outputs": [
    {
     "data": {
      "text/plain": [
       "614"
      ]
     },
     "execution_count": 14,
     "metadata": {},
     "output_type": "execute_result"
    }
   ],
   "source": [
    "# make predictions for test data\n",
    "\n",
    "import pandas as pd\n",
    "import numpy as np\n",
    "import torch\n",
    "import os\n",
    "\n",
    "x = torch.load(os.path.join('..', 'output', 'embeddings', 'train_embeds_videonames_extracted_concatenated.pt'))\n",
    "y = x.to_list()\n",
    "y = [t.tolist() for t in y]\n",
    "x = torch.load(os.path.join('..', 'output', 'embeddings', 'train_embeds_videonames_concatenated.pt'))\n",
    "z = x.to_list()\n",
    "z = [t.tolist() for t in z]\n",
    "y = [torch.tensor(y[i] + z[i]) for i in range(len(y))]\n",
    "y = torch.stack(y)\n",
    "X_full = y.numpy()\n",
    "\n",
    "x = pd.read_csv(os.path.join('..', 'input', 'train.csv'))\n",
    "y_full = x['label'].to_numpy()\n",
    "\n",
    "x = torch.load(os.path.join('..', 'output', 'embeddings', 'test_embeds_videonames_extracted_concatenated.pt'))\n",
    "y = x.to_list()\n",
    "y = [t.tolist() for t in y]\n",
    "x = torch.load(os.path.join('..', 'output', 'embeddings', 'test_embeds_videonames_concatenated.pt'))\n",
    "z = x.to_list()\n",
    "z = [t.tolist() for t in z]\n",
    "y = [torch.tensor(y[i] + z[i]) for i in range(len(y))]\n",
    "y = torch.stack(y)\n",
    "X_test = y.numpy()\n",
    "\n",
    "\n",
    "# Create an XGBoost Classifier\n",
    "xgb_classifier = XGBClassifier(n_estimators=100, random_state=42)\n",
    "\n",
    "# Fit the classifier to the training data\n",
    "xgb_classifier.fit(X_full, y_full)\n",
    "\n",
    "# Make predictions on the test data\n",
    "y_pred = xgb_classifier.predict(X_test)\n",
    "\n",
    "# create a submission file\n",
    "submission = pd.DataFrame({'ID': list(range(1, len(y_pred) + 1)), 'label': y_pred})\n",
    "\n",
    "# save the submission file\n",
    "submission.to_csv(os.path.join('..', 'output', 'xgboost_submission.csv'), index=False)\n",
    "\n",
    "len(y_pred)"
   ]
  },
  {
   "cell_type": "code",
   "execution_count": null,
   "metadata": {},
   "outputs": [],
   "source": []
  }
 ],
 "metadata": {
  "kernelspec": {
   "display_name": "ml",
   "language": "python",
   "name": "python3"
  },
  "language_info": {
   "codemirror_mode": {
    "name": "ipython",
    "version": 3
   },
   "file_extension": ".py",
   "mimetype": "text/x-python",
   "name": "python",
   "nbconvert_exporter": "python",
   "pygments_lexer": "ipython3",
   "version": "3.7.6"
  }
 },
 "nbformat": 4,
 "nbformat_minor": 2
}
