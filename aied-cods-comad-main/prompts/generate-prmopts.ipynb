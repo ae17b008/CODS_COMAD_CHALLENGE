{
 "cells": [
  {
   "cell_type": "code",
   "execution_count": 1,
   "metadata": {},
   "outputs": [],
   "source": [
    "import pandas as pd\n",
    "import os\n",
    "import numpy as np"
   ]
  },
  {
   "cell_type": "code",
   "execution_count": 11,
   "metadata": {},
   "outputs": [],
   "source": [
    "data = pd.read_csv(os.path.join('..', 'input', 'train_folds_wo_agumentation.csv'))\n",
    "\n",
    "train_df = data[data['kfold'] != 1][['pre requisite', 'concept', 'label', 'pre requisite taxonomy', 'concept taxonomy']]\n",
    "dev_df = data[data['kfold'] == 1][['pre requisite', 'concept', 'label', 'pre requisite taxonomy', 'concept taxonomy']]\n",
    "meta_data_transcript = pd.read_csv(os.path.join('..', 'input', 'metadata.csv'), index_col='video name')['transcript']\n",
    "meta_data_extracted = pd.read_csv(os.path.join('..', 'input', 'metadata.csv'), index_col='video name')['extracted']\n",
    "\n"
   ]
  },
  {
   "cell_type": "code",
   "execution_count": 59,
   "metadata": {},
   "outputs": [],
   "source": [
    "def generate_random_prompt():\n",
    "\n",
    "    rand_sample = dev_df.sample(1)\n",
    "    video_A = rand_sample['pre requisite'].values[0]\n",
    "    video_B = rand_sample['concept'].values[0]\n",
    "    video_A_taxonomy = rand_sample['pre requisite taxonomy'].values[0]\n",
    "    video_B_taxonomy = rand_sample['concept taxonomy'].values[0]\n",
    "\n",
    "    video_A_transcript = meta_data_transcript[video_A]\n",
    "    video_B_transcript = meta_data_transcript[video_B]\n",
    "    \n",
    "    label = rand_sample['label'].values[0]\n",
    "\n",
    "    prompt = f'''\n",
    "Your job is to predict if the given  video A is a would follow prior to video B in a learning flow, give a very short discription in one line explaning your rational.\n",
    "Give me the answer as \n",
    "\n",
    "True, if the  video A should be prior to video B in a learning flow to ensure a efficient and effective coverage of the topics being discussed in the videos.\n",
    "False, if video A dont need to be prior to video B in a learning flow or if video A is not a pre requiste of video B to understand the concepts being discussed in the video B. atleast video A is not directly needed in understanding the concepts being discussed in video B.\n",
    "\n",
    "\n",
    "We also provide a taxonomy for each video that can help you with the decision. You are also provided with the transcripts of those videos, use them while preicting the answer. \n",
    "\n",
    "\n",
    "\n",
    "video A : {video_A}\n",
    "video A Taxonomy : {video_A_taxonomy}\n",
    "Video A Transcript :   {video_A_transcript}\n",
    "\n",
    "video B : {video_B}\n",
    "video B Taxonomy : {video_B_taxonomy}\n",
    "Video B Transcript : {video_B_transcript}\n",
    "\n",
    "We are using this  to make a learning workflow for students, so that we can recommend personalized learning pathways to users, fostering efficient and effective \n",
    "coverage of specific academic concepts. make sure to give your answer in accordance with that. Base your answer on the information provided in the video transcripts.\n",
    "\n",
    "    '''\n",
    "\n",
    "    with open(os.path.join('..', 'input', 'random_prompt.txt'), 'w') as f:\n",
    "        f.write(prompt)\n",
    "        f.write('\\n'*10)\n",
    "        f.write(str(int(label)))\n",
    "    \n",
    "    return [prompt, label]"
   ]
  },
  {
   "cell_type": "code",
   "execution_count": 74,
   "metadata": {},
   "outputs": [
    {
     "name": "stdout",
     "output_type": "stream",
     "text": [
      "\n",
      "Your job is to predict if the given  video A is a would follow prior to video B in a learning flow, give a very short discription in one line explaning your rational.\n",
      "Give me the answer as \n",
      "\n",
      "True, if the  video A should be prior to video B in a learning flow to ensure a efficient and effective coverage of the topics being discussed in the videos.\n",
      "False, if video A dont need to be prior to video B in a learning flow or if video A is not a pre requiste of video B.\n",
      "\n",
      "\n",
      "We also provide a taxonomy for each video that can help you with the decision. You are also provided with the transcripts of those videos, use them while preicting the answer. \n",
      "\n",
      "\n",
      "\n",
      "video A : Addition of Integers on a Number Line\n",
      "video A Taxonomy : VI>>Mathematics>>Basic Geometrical Ideas>>Plane, Pair of Lines and Curves\n",
      "Video A Transcript :    we now that intrges can be represented on an number line the numbers to the left of zero or pole negative integers and the numbers to the right of zero or pad positive integers can we us sthis number line to at integers yes we can we will take realisinarios to on the stands are and william or planar game in which they are moving forward and backward forward steps are denoted by positive integers whereas the backward steps are denoted by negative integers here we want to find their final positions with risstep to their starting positions ammiwalks four steps forward and then another six steps forward how far is she from her starting point to find this let us first represent this sinario mathematically ammi moves four steps forward so that will be or positive for then she walks another six steps forward so it will be or positive sex we need to add these two numbers to get her final position how can you find this sum on the number line while looking at or number line we always start with zero fus ammiwalks four steps forward so move four steps in the positive direction on the number line then she continue six steps forward so move six morsteps in the same direction this way we end up at positive ten this gas four ple six equals positive ten thus ammi is stem steps to the right of where she started from now william walks four steps forward and then walk six steps backward how far is he from his starting point lets write or ex stression fire william moves four steps forward so that will be or positive for then he walk six steps backward that is in the opposite direction so it will be or negative sex we need to add these two numbers to get his final position how can you find this sum on the number line here william moves four steps forward so move four steps in the positive direction on the number line and then he moves six steps backward so we move six steps in the opposite direction on te number line and ends at negative to hence for plus negative six equals negative to thus william is two steps behind from where he started let take another cinario mathe and beta are staning at the same pine mathe took for steps backward and another six steps backward what is the current position of mathe relative to where peativeie standing again lets right or expression for mathe fours took four steps backward so it will be or negative for then another six steps backward so it will be or negative sex on adding these two we get the expression negative for plus negative sex on the number line we move four steps in the negative direction then again six step in the same negative direction this way we end up at negative ten so negative four plus negative six equals negative ten hence mathe is stem steps backward to where peter is stand in let take the last scenario lets co in the first round of the gas posnegative for his second round core was positive sex what four this final score in order to find breps final co we will add up the two scores that is negative for plus positive see again we will find this sum using the number line the first number is negative for so we move four steps in the negative direction on the number line the second number is positive see so we change or lirection and move six steps in the positive direction of the number line this way we end up at positive to so negative for plus positive six equals positive to hence bits final score in the gas tunement to was positive too now observe the four cinarios we conclude that when ar positive integer is added to an integer the resulting integer becomes greater than the given intrger when ar negative integer is added to an integer the resulting integer becomes less than dnegiven integer now let us rid to add positive five and negative five using an number line we start with zero on the number line and first move five units to the right to reach positive five then we move backwards five units to the left where do we reach eventually here we note that positive five plus negative five equal zero in a similar way when we are positive for and negative for we get zero numbers such as positive five and negative five positive for and negative for when added to each other gives the sum zero such numbers are called additive inverse of each other thus two integers whose sum is zero are called additive inverses of each other they are also called the negatives of each other now let some arise some important points learned here when a positive integer is added to an integer the resulting integer becomes greater than the given integer when a negative integer is added to an integer the resulting integer becomes less than the given integer two integers whose sum is zero are called additive inverses of each other they are also called the negatives of each other at\n",
      "\n",
      "video B : Multiplication by Zero and Multiplicative Identity\n",
      "video B Taxonomy : VII>>Mathematics>>Integers>>Multiplication and Division of Integers\n",
      "Video B Transcript :  zero is aspecial number which shows that the is no amount you already know that multiplication of or whole number with zero give zero it means multiplication of any pultitive integer with zero give zero can you tile what happens when you multiply an negative integer with zero do you remember the patan that we analysed for multiplication of two integers here we observe that the multiplies decrease by one and the products increase by four let take one of them the patan here shows that when you multiply an negative integer with zero the also of tan zero so negative for multiplied by zero equal zero also zero multiplied by negative for equal zero by comtitive property of multiplication of integers whether you take zero as the first integer of second integer when you multiply any integer with zero you get zero as zeanswer in general for any integer multiplied by zero equals zero multiplied by a which is equal to zero and we call it the multiplication property of zero can you find the production here do you see multiplication by zero in it so the answer of the whole product is zero and hence there is no need to do the other multiplications but do nt get carried away this onlyequors for products for example what is negative three multiplied by zero min as negative to multiplied by for the first part is negative three multiplied by zero which equals zero but we still have to do the second part which is negative to multiplied by for and it is equal to negative so the whole answer is zero minus negative which is equal to next let take to integers and be such that they are product is equal to zero can you say something about ea or be we can say that if aprodulct ab is equal to zero then at least one of the integers itherthe mol the be must be equal to zero since we know that product of any integer with zero is zero so if ea is zequalto negative five then ewould have to be equal to zero or if we may be equalto negative then would have to be zero of course it is also possible that both ea and we are equal to zero now you have learnt the multiplication by zero can you think of any other number that has special multiplication property like zero what about one lets explore what happens when you multiply an integer with one you already know that multiplication of or whole number with one gives the same number it means multiplication of any pultitive integer with one gives the same integer what happens when you multiply an negative integer with one if we see our patan again then we observe that multiplication of negative for with one gives negative for also one multiplied by negative for equals negative for by comitative property of multiplication of integers on observing some more products of integers with one we see that each time you multiply an integer with one you get the same integer bar this shows that one is the multiplicative identity for intgrs why do we call it multiplicative identity because on multiplying with one the entity ive much in its identity that is stays the same in general for any integer we have multiplied by one equals one multiplied by a which is equal to we now can you recall word the additive inverse of in integer is the additive inverse of an integer is its oppose for example the additive inverse of five is negative five and the additive in volts of negative for is for but whats the point we are studding multiplication ride well can you think of an integer with when multiplied by five gives negative five on multiplying five with one you gave five but you need negative five yes you are thinking in the right direction on multiplying five with negative one you get negative five also negative one multiplied by five is equal to negative ive by comitative property of multiplication thus the product of an integer and negative one is the additive inverse of the integer in general we say that for any integer ea multiplied by negative one equals negative one multiplied by a which is equal to negative way in anushe product of anintagur with z yo gives zero product of an integer with one gives the integer itself and product of an integer with negative one gives the additive inverse of that integer\n",
      "\n",
      "We are using this  to make a learning workflow for students, so that we can recommend personalized learning pathways to users, fostering efficient and effective \n",
      "coverage of specific academic concepts. make sure to give your answer in accordance with that. Base your answer on the information provided in the video transcripts.\n",
      "\n",
      "    \n"
     ]
    }
   ],
   "source": [
    "prompt, label = generate_random_prompt()\n",
    "print(prompt)\n"
   ]
  },
  {
   "cell_type": "code",
   "execution_count": 75,
   "metadata": {},
   "outputs": [
    {
     "data": {
      "text/plain": [
       "0"
      ]
     },
     "execution_count": 75,
     "metadata": {},
     "output_type": "execute_result"
    }
   ],
   "source": [
    "label"
   ]
  },
  {
   "cell_type": "code",
   "execution_count": null,
   "metadata": {},
   "outputs": [],
   "source": []
  }
 ],
 "metadata": {
  "kernelspec": {
   "display_name": "ml",
   "language": "python",
   "name": "python3"
  },
  "language_info": {
   "codemirror_mode": {
    "name": "ipython",
    "version": 3
   },
   "file_extension": ".py",
   "mimetype": "text/x-python",
   "name": "python",
   "nbconvert_exporter": "python",
   "pygments_lexer": "ipython3",
   "version": "3.7.6"
  },
  "orig_nbformat": 4
 },
 "nbformat": 4,
 "nbformat_minor": 2
}
