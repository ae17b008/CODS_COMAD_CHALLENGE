{
 "cells": [
  {
   "cell_type": "code",
   "execution_count": 1,
   "metadata": {},
   "outputs": [],
   "source": [
    "import pandas as pd\n",
    "import os\n",
    "import numpy as np"
   ]
  },
  {
   "cell_type": "code",
   "execution_count": 2,
   "metadata": {},
   "outputs": [],
   "source": [
    "data = pd.read_csv(os.path.join('..', 'input', 'train_folds_wo_agumentation.csv'))\n",
    "\n",
    "train_df = data[data['kfold'] != 1][['pre requisite', 'concept', 'label', 'pre requisite taxonomy', 'concept taxonomy']]\n",
    "dev_df = data[data['kfold'] == 1][['pre requisite', 'concept', 'label', 'pre requisite taxonomy', 'concept taxonomy']]\n",
    "meta_data_transcript = pd.read_csv(os.path.join('..', 'input', 'metadata.csv'), index_col='video name')['transcript']\n",
    "meta_data_extracted = pd.read_csv(os.path.join('..', 'input', 'metadata.csv'), index_col='video name')['extracted']\n",
    "\n"
   ]
  },
  {
   "cell_type": "markdown",
   "metadata": {},
   "source": [
    "# Genrate a random prompt"
   ]
  },
  {
   "cell_type": "code",
   "execution_count": 46,
   "metadata": {},
   "outputs": [],
   "source": [
    "def generate_random_prompt():\n",
    "\n",
    "    rand_sample = dev_df.sample(1)\n",
    "    video_A = rand_sample['pre requisite'].values[0]\n",
    "    video_B = rand_sample['concept'].values[0]\n",
    "    video_A_taxonomy = rand_sample['pre requisite taxonomy'].values[0]\n",
    "    video_B_taxonomy = rand_sample['concept taxonomy'].values[0]\n",
    "\n",
    "    video_A_transcript = meta_data_transcript[video_A]\n",
    "    video_B_transcript = meta_data_transcript[video_B]\n",
    "    \n",
    "    label = rand_sample['label'].values[0]\n",
    "\n",
    "    prompt = f'''\n",
    "Your job is to predict if the given  video A is a would follow prior to video B in a learning flow, give a very short discription in one line explaning your rational.\n",
    "Give me the answer as \n",
    "\n",
    "False - The label should be \"False\" if:\n",
    "\n",
    "Video A and Video B discuss related topics, but they do not naturally follow each other in an educational flow, causing a potential disruption in the learning experience. These videos may have overlapping subject matter, but they are better suited for separate, non-sequential viewing.\n",
    "\n",
    "\n",
    "\n",
    "True - The label should be \"True\" if:\n",
    "\n",
    "Video A should precede Video B in a learning sequence to facilitate a more efficient and effective understanding of the topics discussed in both videos.\n",
    "Video A and Video B, when viewed consecutively, form a cohesive narrative or educational sequence that enhances the understanding of a larger, interconnected subject, ensuring smooth and logical progression in the learning flow.\n",
    "\n",
    "You are also provided with the transcripts of those videos, use them while preicting the answer. \n",
    "\n",
    "\n",
    "\n",
    "video A : {video_A}\n",
    "Video A Transcript :   {video_A_transcript}\n",
    "\n",
    "video B : {video_B}\n",
    "Video B Transcript : {video_B_transcript}\n",
    "\n",
    "We are using this  to make a learning workflow for students, so that we can recommend personalized learning pathways to users, fostering efficient and effective \n",
    "coverage of specific academic concepts. make sure to give your answer in accordance with that. Base your answer on the information provided in the video transcripts.\n",
    "\n",
    "    '''\n",
    "\n",
    "    with open(os.path.join('..', 'input', 'random_prompt.txt'), 'w') as f:\n",
    "        f.write(prompt)\n",
    "        f.write('\\n'*2)\n",
    "        f.write(str(int(label)))\n",
    "    \n",
    "    return [prompt, label]"
   ]
  },
  {
   "cell_type": "code",
   "execution_count": 45,
   "metadata": {},
   "outputs": [],
   "source": [
    "prompt, label = generate_random_prompt()"
   ]
  },
  {
   "cell_type": "markdown",
   "metadata": {},
   "source": [
    "# Update the prompt options"
   ]
  },
  {
   "cell_type": "code",
   "execution_count": 30,
   "metadata": {},
   "outputs": [],
   "source": [
    "\n",
    "def generate_random_prompt():\n",
    "\n",
    "    rand_sample = dev_df.sample(1)\n",
    "    video_A = rand_sample['pre requisite'].values[0]\n",
    "    video_B = rand_sample['concept'].values[0]\n",
    "    video_A_taxonomy = rand_sample['pre requisite taxonomy'].values[0]\n",
    "    video_B_taxonomy = rand_sample['concept taxonomy'].values[0]\n",
    "\n",
    "    video_A_transcript = meta_data_transcript[video_A]\n",
    "    video_B_transcript = meta_data_transcript[video_B]\n",
    "    \n",
    "    label = rand_sample['label'].values[0]\n",
    "    prompt = f\"\"\"\n",
    "    Given are two vidoes A and video B and some rules regarding whether the label of Video A and Video B would be related or not using the labels True or False.\n",
    "\n",
    "    Give me the answer as \n",
    "    True, if\n",
    "\n",
    "    *  the  video A should be prior to video B in a learning flow to ensure a efficient and effective coverage of the topics being discussed in the videos\n",
    "    * If video A followed byvideo B would form a continuation of a bigger topic, that is, together they form a part of a story in a bigger flow\n",
    "\n",
    "    False if\n",
    "    * Though Video A and Video B talk about related topics, they dont consitute a learning flow\n",
    "    * Video  A and Video  B are unrelated\n",
    "\n",
    "\n",
    "\n",
    "    We also provide a taxonomy for each video that can help you with the decision. You are also provided with the transcripts of those videos, use them while preicting the answer. \n",
    "\n",
    "\n",
    "\n",
    "    video A : {video_A}\n",
    "    video A Taxonomy : {video_A_taxonomy}\n",
    "    Video A Transcript :   {video_A_transcript}\n",
    "\n",
    "    video B : {video_B}\n",
    "    video B Taxonomy : {video_B_taxonomy}\n",
    "    Video B Transcript : {video_B_transcript}\n",
    "\n",
    "    The label for this is {False if label == 0 else True}, your job is to explain why it is labelled as {False if label == 0 else True}, if you think the given conditions for True and False are not ideal to match this, then update them and give modified rules so that the label would be False\n",
    "    \"\"\"\n",
    "    with open(os.path.join('..', 'input', 'random_prompt.txt'), 'w') as f:\n",
    "        f.write(prompt)\n",
    "        # f.write('\\n'*10)\n",
    "        # f.write(str(int(label)))\n",
    "    print(label)\n",
    "    return [prompt, label]\n"
   ]
  },
  {
   "cell_type": "code",
   "execution_count": 34,
   "metadata": {},
   "outputs": [
    {
     "name": "stdout",
     "output_type": "stream",
     "text": [
      "0\n"
     ]
    },
    {
     "data": {
      "text/plain": [
       "['\\n    Given are two vidoes A and video B and some rules regarding whether the label of Video A and Video B would be related or not using the labels True or False.\\n\\n    Give me the answer as \\n    True, if\\n\\n    *  the  video A should be prior to video B in a learning flow to ensure a efficient and effective coverage of the topics being discussed in the videos\\n    * If video A followed byvideo B would form a continuation of a bigger topic, that is, together they form a part of a story in a bigger flow\\n\\n    False if\\n    * Though Video A and Video B talk about related topics, they dont consitute a learning flow\\n    * Video  A and Video  B are unrelated\\n\\n\\n\\n    We also provide a taxonomy for each video that can help you with the decision. You are also provided with the transcripts of those videos, use them while preicting the answer. \\n\\n\\n\\n    video A : Blood Components\\n    video A Taxonomy : X>>Science>>Life Processes>>Excretion\\n    Video A Transcript :    blade is as specialised connective tissue that consists of fluid matrix plasma and formed elements if the centrifuge on rate secret the time matrix from the cellular components we will find than merely fifty five per cent of blood volumes plasma while the rest forty five per cent von is taken orbit the cellular components plasmids the liquid or the cellular components of the blood more than lie per cent of this ii litres is water it also contains the sol rotinsglupos mineral ions hormones than die side itsetera in addition to to platelets and blood cells the plasma without the coding rod in by pronotion is termed as serum cellular of and component and rises of red loads sells vi places and that less are resides or arises have biconcave shape and are devoid of litres this shape significant as it increases of the area of gas it chain and allows to blood to or lysine for than marrow vessels they are about four by bite to iv bond family and arbiseswesand in one mililter of blood the red blood cells as in the side in the bone marrow of red sternum and vertebrate at the rate of not so million cells per second the live and of the forces only about hundred and twenty days and their man roll is to carry of sign to all the cells of sides bound to the hemoglobin present in the only in late five per cent of the self proteins emoglobe the second seller component is take ly only besides the new created have any void shape and leasignetecon role in the the tens males and of the body the area or mature of only co sides held then to sees to the bones of the blood vessels in order to an gal bacteria they do not contain lim or globin they number six thousand to at thousand family liter of blood and the ray show of artisitodoblu by see is merely one thousand is to one there are five tides of lyosides which are categories as granular and eye granular tides granular lice sides are eosin oil new traf and as of fills the as and of fill contains anus that take as an stain like eosin the new pleas as by load the number and we to four hundred family liter of blood live span of eosin of piles three to five days the leaf very significant role in anodic responses they travel contains new to staining granules the new class to to seven load the number three thousand to six thousand family liter of blood lifespan of new of ill varies from larvae ticle tails they is strive for and an for oganesson is by intestine then this sandsonees by favoside forces or cell tan these of pills than tin cranes that at the six tail then nucleases to to fly load they number many five to to handed cells family liter of ln their lives tan is tan eighteen days they develop into mast cell of connective tissue and six create in point chemicals that play an important role in mediate anodic respire they granular side at of to tides monocytes and life sides mono sides have large gene shaped nucleus and are band and side or bloods they number and red to seven hundred cells formally liter of blood they become macrophages in tissue upon stimulation and attack pathogenic banteria they also feed on dentisues life side are agranulocides that are produced in the lymphatic sister their new clears is large and occupies most of per cell they are site of blasmes less opilic they have lice span of hundred to two hundred days they produce anti body on belongs most to antigenic molecule the relative abundance of these cells are neutral fills sixty to sixty five per cent biosonofill two to three per cent base fill find five to one per cent more no sides six to eight per cent lim for sides twenty to twenty five per cent the third cellular component of blood is platelet which is responsible for blood plotting\\n\\n    video B : Connective Tissues\\n    video B Taxonomy : IX>>Science>>Tissues>>Animal Tissues\\n    Video B Transcript :  have you wisited or passed through any construction site you must have observed the timber framing done at the time of constructue do you know its significance it is done to provide the structure and support to the building like this timber framing the connective tissues provide structure and support to our body being connective they connect tedious tissues and bodins now let us go through the composition of this tissue it cells are loosely spaces and embedded in an inter selilamatreks the matrices can be jelly like fluid dense or rigid depending upon the function of uppertegular type of connective tissue depending upon the type of matrices there are three types of connective tissues fluid connective tissue supportive connective tissue fibres connective tissue let us explore each of them in detail fluid connective tissues have of fluid matrices and cells are dispersed tanned for example blood is affluid connective tissue having of fluid matrix called plasma plasma is the as celila component of blood which is composed of proteins falls and hormones red blood cells white blood cells and platelets are the cellular components of blood that are dispersed in the plasma this widely distributed fluid connective tissue serves of variety of functues blood transports new try and from the digestive system to the different parts of the body it carries oxygen from the lungs and transport set do ferent parts of the body it also transports the was products such as you rear for removal from the body now let us know about the next type of connective tissue that is supportive connective tissue as the name suggests the are men to provide support and defines structure to the body can you guess it type we call the composisson of the skeleton of your body it is meanly composed of bones and cattleges which are the types of supportive connective tissues let us pot the differences between these tue if you touch your hand you will find that it has hard and stiff structure inside but if you touch your ear you will find that it has of soft and flexible structure inside the former one is abone it is harder as it has of solid matrix composed of calcium and phosphorus while the latter one is partlege it is softer as it has as semi solid matrix composed of protines and sugars now let us understand what functions do bones and cartlege serve bones provide support and serve vasa storage site of calcium and phosphorus cartlages cover the ends of long bones and tones and act as rubber like body now let us know about the last type of connective tissue that is fibrous connective tissue they are of two types dense connective tissues and loose connective tissues can you guess why they are named so dense connective tissues possess more cells and fibers but less ground materials while loose connective tissues possess few ourselves and fibers but more ground material your tendens and ligaments fall under the category of tends connective tissues what do they do tendon connect bones to muscles while ligaments connect bones to bones tendon possess limited flexibility but great trends while ligaments are extremely elastic and have considerable trends areolar and adipose tissues fall under the category of loose connective tissues do you know what gives the nipples of the breast are characteristic colour it is an areolar tissue which is found between the skin and muscles around the blood vessues and nerves and in the bone marrow it fills the space inside the odins supports in donaorgans and helps in the repair of tissues do you know which tissues responsible for storing excess facts it is an adipose tissue which is found below the skin and between the internal organs of the body the cells of this tissue are called ediposides which are filled with fat globules deposition of facts below the scene provides insulation and shock absorption now lets reflect on the main concepts in the lesson\\n\\n    The label for this is False, your job is to explain why it is labelled as False, if you think the given conditions for True and False are not ideal to match this, then update them and give modified rules so that the label would be False\\n    ',\n",
       " 0]"
      ]
     },
     "execution_count": 34,
     "metadata": {},
     "output_type": "execute_result"
    }
   ],
   "source": [
    "generate_random_prompt()"
   ]
  },
  {
   "cell_type": "code",
   "execution_count": null,
   "metadata": {},
   "outputs": [],
   "source": []
  }
 ],
 "metadata": {
  "kernelspec": {
   "display_name": "ml",
   "language": "python",
   "name": "python3"
  },
  "language_info": {
   "codemirror_mode": {
    "name": "ipython",
    "version": 3
   },
   "file_extension": ".py",
   "mimetype": "text/x-python",
   "name": "python",
   "nbconvert_exporter": "python",
   "pygments_lexer": "ipython3",
   "version": "3.7.6"
  },
  "orig_nbformat": 4
 },
 "nbformat": 4,
 "nbformat_minor": 2
}
