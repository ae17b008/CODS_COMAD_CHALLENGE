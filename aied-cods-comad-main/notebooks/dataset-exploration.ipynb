{
 "cells": [
  {
   "cell_type": "code",
   "execution_count": 66,
   "metadata": {},
   "outputs": [],
   "source": [
    "import pandas as pd\n",
    "import numpy as np\n",
    "\n",
    "import os\n"
   ]
  },
  {
   "cell_type": "code",
   "execution_count": 137,
   "metadata": {},
   "outputs": [
    {
     "data": {
      "text/html": [
       "<div>\n",
       "<style scoped>\n",
       "    .dataframe tbody tr th:only-of-type {\n",
       "        vertical-align: middle;\n",
       "    }\n",
       "\n",
       "    .dataframe tbody tr th {\n",
       "        vertical-align: top;\n",
       "    }\n",
       "\n",
       "    .dataframe thead th {\n",
       "        text-align: right;\n",
       "    }\n",
       "</style>\n",
       "<table border=\"1\" class=\"dataframe\">\n",
       "  <thead>\n",
       "    <tr style=\"text-align: right;\">\n",
       "      <th></th>\n",
       "      <th>label</th>\n",
       "      <th>pre requisite</th>\n",
       "      <th>concept</th>\n",
       "      <th>pre requisite taxonomy</th>\n",
       "      <th>concept taxonomy</th>\n",
       "      <th>title 12</th>\n",
       "      <th>title 12.1</th>\n",
       "      <th>title 12.2</th>\n",
       "      <th>title 12.3</th>\n",
       "      <th>title 12.4</th>\n",
       "      <th>...</th>\n",
       "      <th>BOW 657</th>\n",
       "      <th>BOW 658</th>\n",
       "      <th>BOW 659</th>\n",
       "      <th>BOW 660</th>\n",
       "      <th>BOW 661</th>\n",
       "      <th>BOW 662</th>\n",
       "      <th>BOW 663</th>\n",
       "      <th>BOW 664</th>\n",
       "      <th>BOW 665</th>\n",
       "      <th>kfold</th>\n",
       "    </tr>\n",
       "  </thead>\n",
       "  <tbody>\n",
       "    <tr>\n",
       "      <th>0</th>\n",
       "      <td>1</td>\n",
       "      <td>Volume of a Cylinder</td>\n",
       "      <td>Volume  of Combination of Hemisphere and Cylinder</td>\n",
       "      <td>VIII&gt;&gt;Mathematics&gt;&gt;Mensuration&gt;&gt;Volume of Soli...</td>\n",
       "      <td>VIII&gt;&gt;Mathematics&gt;&gt;Mensuration&gt;&gt;Volume of Soli...</td>\n",
       "      <td>0.884399</td>\n",
       "      <td>1</td>\n",
       "      <td>0.5</td>\n",
       "      <td>0.5</td>\n",
       "      <td>0.5</td>\n",
       "      <td>...</td>\n",
       "      <td>0</td>\n",
       "      <td>0</td>\n",
       "      <td>0</td>\n",
       "      <td>0</td>\n",
       "      <td>0</td>\n",
       "      <td>0</td>\n",
       "      <td>0</td>\n",
       "      <td>0</td>\n",
       "      <td>0</td>\n",
       "      <td>0</td>\n",
       "    </tr>\n",
       "    <tr>\n",
       "      <th>1</th>\n",
       "      <td>0</td>\n",
       "      <td>Slow and fast motion</td>\n",
       "      <td>Translatory Motion</td>\n",
       "      <td>VI&gt;&gt;Science&gt;&gt;Motion and Measurement of Distanc...</td>\n",
       "      <td>IX&gt;&gt;Science&gt;&gt;Motion&gt;&gt;Describing Motion</td>\n",
       "      <td>0.860345</td>\n",
       "      <td>1</td>\n",
       "      <td>1.0</td>\n",
       "      <td>1.0</td>\n",
       "      <td>1.0</td>\n",
       "      <td>...</td>\n",
       "      <td>0</td>\n",
       "      <td>0</td>\n",
       "      <td>0</td>\n",
       "      <td>0</td>\n",
       "      <td>0</td>\n",
       "      <td>0</td>\n",
       "      <td>0</td>\n",
       "      <td>0</td>\n",
       "      <td>0</td>\n",
       "      <td>-1</td>\n",
       "    </tr>\n",
       "    <tr>\n",
       "      <th>2</th>\n",
       "      <td>0</td>\n",
       "      <td>Construction of an Angle of 60</td>\n",
       "      <td>Gauss s Law</td>\n",
       "      <td>IX&gt;&gt;Mathematics&gt;&gt;Constructions&gt;&gt;Some Construct...</td>\n",
       "      <td>XII&gt;&gt;Physics&gt;&gt;Physics: Part - I&gt;&gt;Electrostatic...</td>\n",
       "      <td>0.323783</td>\n",
       "      <td>2</td>\n",
       "      <td>1.0</td>\n",
       "      <td>1.0</td>\n",
       "      <td>1.0</td>\n",
       "      <td>...</td>\n",
       "      <td>0</td>\n",
       "      <td>0</td>\n",
       "      <td>0</td>\n",
       "      <td>0</td>\n",
       "      <td>0</td>\n",
       "      <td>0</td>\n",
       "      <td>0</td>\n",
       "      <td>0</td>\n",
       "      <td>0</td>\n",
       "      <td>-1</td>\n",
       "    </tr>\n",
       "    <tr>\n",
       "      <th>3</th>\n",
       "      <td>0</td>\n",
       "      <td>Gravitational potential energy</td>\n",
       "      <td>Mechanical Energy</td>\n",
       "      <td>XI&gt;&gt;Physics&gt;&gt;Physics : Part - I&gt;&gt;Work, Energy ...</td>\n",
       "      <td>XI&gt;&gt;Physics&gt;&gt;Physics : Part - I&gt;&gt;Gravitation&gt;&gt;...</td>\n",
       "      <td>0.871826</td>\n",
       "      <td>2</td>\n",
       "      <td>1.0</td>\n",
       "      <td>1.0</td>\n",
       "      <td>1.0</td>\n",
       "      <td>...</td>\n",
       "      <td>0</td>\n",
       "      <td>0</td>\n",
       "      <td>0</td>\n",
       "      <td>2</td>\n",
       "      <td>0</td>\n",
       "      <td>0</td>\n",
       "      <td>2</td>\n",
       "      <td>0</td>\n",
       "      <td>0</td>\n",
       "      <td>-1</td>\n",
       "    </tr>\n",
       "    <tr>\n",
       "      <th>4</th>\n",
       "      <td>0</td>\n",
       "      <td>Water Management</td>\n",
       "      <td>Composition of Air</td>\n",
       "      <td>VII&gt;&gt;Science&gt;&gt;Water: A Precious Resource&gt;&gt;Grou...</td>\n",
       "      <td>IX&gt;&gt;Science&gt;&gt;Natural Resources&gt;&gt;Air as a Natur...</td>\n",
       "      <td>0.583857</td>\n",
       "      <td>2</td>\n",
       "      <td>1.0</td>\n",
       "      <td>1.0</td>\n",
       "      <td>1.0</td>\n",
       "      <td>...</td>\n",
       "      <td>0</td>\n",
       "      <td>0</td>\n",
       "      <td>0</td>\n",
       "      <td>0</td>\n",
       "      <td>0</td>\n",
       "      <td>0</td>\n",
       "      <td>0</td>\n",
       "      <td>0</td>\n",
       "      <td>0</td>\n",
       "      <td>-1</td>\n",
       "    </tr>\n",
       "  </tbody>\n",
       "</table>\n",
       "<p>5 rows × 987 columns</p>\n",
       "</div>"
      ],
      "text/plain": [
       "   label                    pre requisite  \\\n",
       "0      1             Volume of a Cylinder   \n",
       "1      0             Slow and fast motion   \n",
       "2      0  Construction of an Angle of 60    \n",
       "3      0   Gravitational potential energy   \n",
       "4      0                 Water Management   \n",
       "\n",
       "                                             concept  \\\n",
       "0  Volume  of Combination of Hemisphere and Cylinder   \n",
       "1                                 Translatory Motion   \n",
       "2                                        Gauss s Law   \n",
       "3                                  Mechanical Energy   \n",
       "4                                 Composition of Air   \n",
       "\n",
       "                              pre requisite taxonomy  \\\n",
       "0  VIII>>Mathematics>>Mensuration>>Volume of Soli...   \n",
       "1  VI>>Science>>Motion and Measurement of Distanc...   \n",
       "2  IX>>Mathematics>>Constructions>>Some Construct...   \n",
       "3  XI>>Physics>>Physics : Part - I>>Work, Energy ...   \n",
       "4  VII>>Science>>Water: A Precious Resource>>Grou...   \n",
       "\n",
       "                                    concept taxonomy  title 12  title 12.1  \\\n",
       "0  VIII>>Mathematics>>Mensuration>>Volume of Soli...  0.884399           1   \n",
       "1             IX>>Science>>Motion>>Describing Motion  0.860345           1   \n",
       "2  XII>>Physics>>Physics: Part - I>>Electrostatic...  0.323783           2   \n",
       "3  XI>>Physics>>Physics : Part - I>>Gravitation>>...  0.871826           2   \n",
       "4  IX>>Science>>Natural Resources>>Air as a Natur...  0.583857           2   \n",
       "\n",
       "   title 12.2  title 12.3  title 12.4  ...  BOW 657  BOW 658  BOW 659  \\\n",
       "0         0.5         0.5         0.5  ...        0        0        0   \n",
       "1         1.0         1.0         1.0  ...        0        0        0   \n",
       "2         1.0         1.0         1.0  ...        0        0        0   \n",
       "3         1.0         1.0         1.0  ...        0        0        0   \n",
       "4         1.0         1.0         1.0  ...        0        0        0   \n",
       "\n",
       "   BOW 660  BOW 661  BOW 662  BOW 663  BOW 664  BOW 665  kfold  \n",
       "0        0        0        0        0        0        0      0  \n",
       "1        0        0        0        0        0        0     -1  \n",
       "2        0        0        0        0        0        0     -1  \n",
       "3        2        0        0        2        0        0     -1  \n",
       "4        0        0        0        0        0        0     -1  \n",
       "\n",
       "[5 rows x 987 columns]"
      ]
     },
     "execution_count": 137,
     "metadata": {},
     "output_type": "execute_result"
    }
   ],
   "source": [
    "data = pd.read_csv(os.path.join('..', 'input', 'train_folds.csv'))\n",
    "\n",
    "data.head()"
   ]
  },
  {
   "cell_type": "code",
   "execution_count": 140,
   "metadata": {},
   "outputs": [
    {
     "data": {
      "text/plain": [
       "0       0\n",
       "1      -1\n",
       "2      -1\n",
       "3      -1\n",
       "4      -1\n",
       "       ..\n",
       "3896   -1\n",
       "3897   -1\n",
       "3898   -1\n",
       "3899   -1\n",
       "3900   -1\n",
       "Name: kfold, Length: 3901, dtype: int64"
      ]
     },
     "execution_count": 140,
     "metadata": {},
     "output_type": "execute_result"
    }
   ],
   "source": [
    "data['kfold']"
   ]
  },
  {
   "cell_type": "code",
   "execution_count": 161,
   "metadata": {},
   "outputs": [
    {
     "name": "stdout",
     "output_type": "stream",
     "text": [
      "Length of the original dataset 2797\n",
      "Length of the augumented dataset 3901\n",
      "0    2788\n",
      "1    1113\n",
      "Name: label, dtype: int64\n",
      "[0 0 0 ... 0 1 0]\n"
     ]
    }
   ],
   "source": [
    "from sklearn import model_selection\n",
    "import pandas as pd\n",
    "import numpy as np\n",
    "import os\n",
    "\n",
    "# read the data \n",
    "data = pd.read_csv(os.path.join('..', 'input', 'train.csv'))\n",
    "\n",
    "print(f'Length of the original dataset {len(data)}')\n",
    "\n",
    "# data augumention if ( A->B then B!->A)\n",
    "data_label1 = data[data['label'] == 1]\n",
    "data_label0 = data[data['label'] == 0]\n",
    "\n",
    "data_label_change = data_label1.rename(columns={'pre requisite': 'concept', 'concept': 'pre requisite'}, inplace=False)\n",
    "\n",
    "data_label0 = data_label0.append(data_label_change).drop_duplicates(subset=['concept', 'pre requisite'])\n",
    "\n",
    "data_label0['label'] = 0 # change the label for the agumentation\n",
    "\n",
    "data = pd.concat([data_label0, data_label1])\n",
    "\n",
    "print(f'Length of the augumented dataset {len(data)}')\n",
    "\n",
    "print(data['label'].value_counts())\n",
    "\n",
    "# seperate into folds\n",
    "\n",
    "data['kfold'] = -1\n",
    "\n",
    "data = data.sample(frac = 1).reset_index(drop = True)\n",
    "\n",
    "# print(data)\n",
    "labels = data['label'].values\n",
    "\n",
    "print(labels)\n",
    "\n",
    "kf = model_selection.StratifiedKFold(n_splits=5)\n",
    "\n",
    "# for f, (t_, v_) in enumerate(kf.split(X = data, y = labels)):\n",
    "#     print(t_)"
   ]
  },
  {
   "cell_type": "code",
   "execution_count": 68,
   "metadata": {},
   "outputs": [
    {
     "name": "stdout",
     "output_type": "stream",
     "text": [
      "Length of the dataset 2797\n",
      "Rows with a prereq ( Label = 1 ) 1113\n",
      "Rows without a prereq ( Label = 0 )1684\n"
     ]
    }
   ],
   "source": [
    "print(f'Length of the dataset {len(data)}')\n",
    "\n",
    "print(f'Rows with a prereq ( Label = 1 ) {sum(data.label == 1)}')\n",
    "\n",
    "print(f'Rows without a prereq ( Label = 0 ){sum(data.label == 0)}')"
   ]
  },
  {
   "cell_type": "code",
   "execution_count": 69,
   "metadata": {},
   "outputs": [
    {
     "name": "stdout",
     "output_type": "stream",
     "text": [
      "Unique concepts in the dataset 666\n",
      "Unique pre reqs in the dataset 439\n"
     ]
    }
   ],
   "source": [
    "print(f'Unique concepts in the dataset {len(data.concept.unique())}')\n",
    "\n",
    "print(f'Unique pre reqs in the dataset {len(data[\"pre requisite\"].unique())}')"
   ]
  },
  {
   "cell_type": "code",
   "execution_count": 135,
   "metadata": {},
   "outputs": [
    {
     "data": {
      "text/plain": [
       "video name\n",
       "Collection and Presentation of Data - II     we already know that data can be presented us...\n",
       "Frequency Polygon                            there is the same ar picture is for ar thousa...\n",
       "Mean                                         mean in our day to day life we talk about ave...\n",
       "Angle Sum Property                           angle sum property done by an looking confuse...\n",
       "Inequality Property of Triangle              the sum of the lengths of any two sides of tr...\n",
       "Name: transcript, dtype: object"
      ]
     },
     "execution_count": 135,
     "metadata": {},
     "output_type": "execute_result"
    }
   ],
   "source": [
    "meta_data = pd.read_csv(os.path.join('..', 'input', 'metadata.csv'), index_col='video name')['transcript']\n",
    "\n",
    "meta_data.head(5)"
   ]
  },
  {
   "cell_type": "code",
   "execution_count": 136,
   "metadata": {},
   "outputs": [
    {
     "name": "stdout",
     "output_type": "stream",
     "text": [
      " mean in our day to day life we talk about averages all the time like the average speed of car the average score of test the average height of basket ball players the average wage or income do you know what an average is an average is the central value of a set of numbers for a data set the term average an arithmetic mean are used synonymously to refer to a central value of set of numbers the arithmetic mean or simply mean of observations ex one ex to and so on up to ex m is the sum of the observations divided by the number of observations the arithmetic mean is normally denoted by ex bar let us take an example the arithmetic mean of five values six three four five and seven is six plus three plus four plus five plus seven divided by five on simplification arithmetic mean is equal to five\n"
     ]
    }
   ],
   "source": [
    "print(meta_data.get('Mean', default=None))"
   ]
  },
  {
   "cell_type": "code",
   "execution_count": 71,
   "metadata": {},
   "outputs": [
    {
     "name": "stdout",
     "output_type": "stream",
     "text": [
      "length of meta_data 910\n",
      "Unique number  of videos in meta_data 910\n"
     ]
    }
   ],
   "source": [
    "print(f'length of meta_data {len(meta_data)}')\n",
    "\n",
    "print(f'Unique number  of videos in meta_data {len(meta_data[\"video name\"].unique())}')"
   ]
  },
  {
   "cell_type": "code",
   "execution_count": 72,
   "metadata": {},
   "outputs": [
    {
     "name": "stdout",
     "output_type": "stream",
     "text": [
      "Average length of transcript in the dataset 448.6142857142857\n"
     ]
    }
   ],
   "source": [
    "print(f'Average length of transcript in the dataset {meta_data[\"transcript\"].apply(lambda x: len(x.split())).mean()}')"
   ]
  },
  {
   "cell_type": "code",
   "execution_count": null,
   "metadata": {},
   "outputs": [],
   "source": []
  },
  {
   "cell_type": "markdown",
   "metadata": {},
   "source": [
    "# Q. If A->B is in D then is there B!->A in D as well ?"
   ]
  },
  {
   "cell_type": "code",
   "execution_count": 73,
   "metadata": {},
   "outputs": [
    {
     "data": {
      "text/plain": [
       "Index(['label', 'pre requisite', 'concept', 'pre requisite taxonomy',\n",
       "       'concept taxonomy', 'title 12', 'title 12.1', 'title 12.2',\n",
       "       'title 12.3', 'title 12.4',\n",
       "       ...\n",
       "       'BOW 656', 'BOW 657', 'BOW 658', 'BOW 659', 'BOW 660', 'BOW 661',\n",
       "       'BOW 662', 'BOW 663', 'BOW 664', 'BOW 665'],\n",
       "      dtype='object', length=986)"
      ]
     },
     "execution_count": 73,
     "metadata": {},
     "output_type": "execute_result"
    }
   ],
   "source": [
    "data[data['label'] == 1].keys()"
   ]
  },
  {
   "cell_type": "code",
   "execution_count": 94,
   "metadata": {},
   "outputs": [],
   "source": [
    "df_label1 = data[data['label'] == 1][['pre requisite', 'concept']]"
   ]
  },
  {
   "cell_type": "code",
   "execution_count": 95,
   "metadata": {},
   "outputs": [],
   "source": [
    "df_label0 = (data[data['label'] == 0][['pre requisite', 'concept']])"
   ]
  },
  {
   "cell_type": "code",
   "execution_count": 99,
   "metadata": {},
   "outputs": [],
   "source": [
    "df_label0.rename(columns={'pre requisite': 'concept', 'concept': 'pre requisite'}, inplace=True)"
   ]
  },
  {
   "cell_type": "code",
   "execution_count": 100,
   "metadata": {},
   "outputs": [
    {
     "data": {
      "text/html": [
       "<div>\n",
       "<style scoped>\n",
       "    .dataframe tbody tr th:only-of-type {\n",
       "        vertical-align: middle;\n",
       "    }\n",
       "\n",
       "    .dataframe tbody tr th {\n",
       "        vertical-align: top;\n",
       "    }\n",
       "\n",
       "    .dataframe thead th {\n",
       "        text-align: right;\n",
       "    }\n",
       "</style>\n",
       "<table border=\"1\" class=\"dataframe\">\n",
       "  <thead>\n",
       "    <tr style=\"text-align: right;\">\n",
       "      <th></th>\n",
       "      <th>concept</th>\n",
       "      <th>pre requisite</th>\n",
       "    </tr>\n",
       "  </thead>\n",
       "  <tbody>\n",
       "    <tr>\n",
       "      <th>0</th>\n",
       "      <td>Soil Erosion</td>\n",
       "      <td>Soil Profile</td>\n",
       "    </tr>\n",
       "    <tr>\n",
       "      <th>1</th>\n",
       "      <td>kepler's second law</td>\n",
       "      <td>kepler's first law</td>\n",
       "    </tr>\n",
       "    <tr>\n",
       "      <th>2</th>\n",
       "      <td>Kepler's third law</td>\n",
       "      <td>kepler's first law</td>\n",
       "    </tr>\n",
       "    <tr>\n",
       "      <th>3</th>\n",
       "      <td>Kepler's third law</td>\n",
       "      <td>kepler's second law</td>\n",
       "    </tr>\n",
       "    <tr>\n",
       "      <th>4</th>\n",
       "      <td>Fertilisation</td>\n",
       "      <td>Human Reproductive System</td>\n",
       "    </tr>\n",
       "    <tr>\n",
       "      <th>5</th>\n",
       "      <td>Fertilisation</td>\n",
       "      <td>Viviparous and Oviparous Animals</td>\n",
       "    </tr>\n",
       "    <tr>\n",
       "      <th>6</th>\n",
       "      <td>Galvanic Cell</td>\n",
       "      <td>Electrochemical cell</td>\n",
       "    </tr>\n",
       "    <tr>\n",
       "      <th>7</th>\n",
       "      <td>Cellular Respiration</td>\n",
       "      <td>Anaerobic Respiration</td>\n",
       "    </tr>\n",
       "    <tr>\n",
       "      <th>8</th>\n",
       "      <td>Double Blood Circulation</td>\n",
       "      <td>Blood Vessels</td>\n",
       "    </tr>\n",
       "  </tbody>\n",
       "</table>\n",
       "</div>"
      ],
      "text/plain": [
       "                    concept                     pre requisite\n",
       "0              Soil Erosion                      Soil Profile\n",
       "1       kepler's second law                kepler's first law\n",
       "2        Kepler's third law                kepler's first law\n",
       "3        Kepler's third law               kepler's second law\n",
       "4             Fertilisation         Human Reproductive System\n",
       "5             Fertilisation  Viviparous and Oviparous Animals\n",
       "6             Galvanic Cell              Electrochemical cell\n",
       "7      Cellular Respiration             Anaerobic Respiration\n",
       "8  Double Blood Circulation                     Blood Vessels"
      ]
     },
     "execution_count": 100,
     "metadata": {},
     "output_type": "execute_result"
    }
   ],
   "source": [
    "df_label0.merge(df_label1)\n",
    "\n",
    "# there is an intersection of 9 rows between the two"
   ]
  },
  {
   "cell_type": "code",
   "execution_count": 101,
   "metadata": {},
   "outputs": [],
   "source": [
    "df_label0 = (data[data['label'] == 0][['pre requisite', 'concept']])"
   ]
  },
  {
   "cell_type": "code",
   "execution_count": 102,
   "metadata": {},
   "outputs": [],
   "source": [
    "df_label_change = df_label1.rename(columns={'pre requisite': 'concept', 'concept': 'pre requisite'}, inplace=False)"
   ]
  },
  {
   "cell_type": "code",
   "execution_count": 103,
   "metadata": {},
   "outputs": [
    {
     "data": {
      "text/plain": [
       "9"
      ]
     },
     "execution_count": 103,
     "metadata": {},
     "output_type": "execute_result"
    }
   ],
   "source": [
    "(df_label0.append(df_label_change).value_counts() == 2).sum()"
   ]
  },
  {
   "cell_type": "code",
   "execution_count": 104,
   "metadata": {},
   "outputs": [
    {
     "data": {
      "text/plain": [
       "array([1, 1, 1, ..., 0, 0, 0], dtype=int64)"
      ]
     },
     "execution_count": 104,
     "metadata": {},
     "output_type": "execute_result"
    }
   ],
   "source": [
    "data.label.values"
   ]
  },
  {
   "cell_type": "code",
   "execution_count": 116,
   "metadata": {},
   "outputs": [],
   "source": [
    "df = pd.read_csv(os.path.join('..', 'input', 'train_folds.csv'))"
   ]
  },
  {
   "cell_type": "code",
   "execution_count": 117,
   "metadata": {},
   "outputs": [],
   "source": [
    "df_unagumented = pd.read_csv(os.path.join('..', 'input', 'train.csv'))"
   ]
  },
  {
   "cell_type": "code",
   "execution_count": 118,
   "metadata": {},
   "outputs": [
    {
     "data": {
      "text/plain": [
       "0    2788\n",
       "1    1113\n",
       "Name: label, dtype: int64"
      ]
     },
     "execution_count": 118,
     "metadata": {},
     "output_type": "execute_result"
    }
   ],
   "source": [
    "df['label'].value_counts()"
   ]
  },
  {
   "cell_type": "code",
   "execution_count": 119,
   "metadata": {},
   "outputs": [
    {
     "data": {
      "text/plain": [
       "0    1684\n",
       "1    1113\n",
       "Name: label, dtype: int64"
      ]
     },
     "execution_count": 119,
     "metadata": {},
     "output_type": "execute_result"
    }
   ],
   "source": [
    "df_unagumented['label'].value_counts()"
   ]
  },
  {
   "cell_type": "code",
   "execution_count": 128,
   "metadata": {},
   "outputs": [
    {
     "data": {
      "text/plain": [
       "<generator object DataFrame.items at 0x000002B2DEF11C48>"
      ]
     },
     "execution_count": 128,
     "metadata": {},
     "output_type": "execute_result"
    }
   ],
   "source": [
    "df.items()\n"
   ]
  },
  {
   "cell_type": "code",
   "execution_count": 122,
   "metadata": {},
   "outputs": [
    {
     "name": "stdout",
     "output_type": "stream",
     "text": [
      "('label', 0       0\n",
      "1       1\n",
      "2       0\n",
      "3       0\n",
      "4       0\n",
      "       ..\n",
      "3896    0\n",
      "3897    0\n",
      "3898    0\n",
      "3899    1\n",
      "3900    0\n",
      "Name: label, Length: 3901, dtype: int64)\n"
     ]
    }
   ],
   "source": [
    "for row in df.items():\n",
    "    print(row)\n",
    "    break"
   ]
  },
  {
   "cell_type": "code",
   "execution_count": 1,
   "metadata": {},
   "outputs": [],
   "source": [
    "# calculate f1 score from the preds and labels, both are torch tensors, make necessary imports\n",
    "from sklearn.metrics import f1_score\n",
    "\n",
    "def calculate_f1_score(preds, labels):\n",
    "    labels = labels.flatten()\n",
    "    return f1_score(labels, preds, average='weighted')"
   ]
  },
  {
   "cell_type": "code",
   "execution_count": 12,
   "metadata": {},
   "outputs": [
    {
     "data": {
      "text/html": [
       "<div>\n",
       "<style scoped>\n",
       "    .dataframe tbody tr th:only-of-type {\n",
       "        vertical-align: middle;\n",
       "    }\n",
       "\n",
       "    .dataframe tbody tr th {\n",
       "        vertical-align: top;\n",
       "    }\n",
       "\n",
       "    .dataframe thead th {\n",
       "        text-align: right;\n",
       "    }\n",
       "</style>\n",
       "<table border=\"1\" class=\"dataframe\">\n",
       "  <thead>\n",
       "    <tr style=\"text-align: right;\">\n",
       "      <th></th>\n",
       "      <th>label</th>\n",
       "      <th>pre requisite</th>\n",
       "      <th>concept</th>\n",
       "      <th>pre requisite taxonomy</th>\n",
       "      <th>concept taxonomy</th>\n",
       "      <th>title 12</th>\n",
       "      <th>title 12.1</th>\n",
       "      <th>title 12.2</th>\n",
       "      <th>title 12.3</th>\n",
       "      <th>title 12.4</th>\n",
       "      <th>...</th>\n",
       "      <th>BOW 657</th>\n",
       "      <th>BOW 658</th>\n",
       "      <th>BOW 659</th>\n",
       "      <th>BOW 660</th>\n",
       "      <th>BOW 661</th>\n",
       "      <th>BOW 662</th>\n",
       "      <th>BOW 663</th>\n",
       "      <th>BOW 664</th>\n",
       "      <th>BOW 665</th>\n",
       "      <th>kfold</th>\n",
       "    </tr>\n",
       "  </thead>\n",
       "  <tbody>\n",
       "    <tr>\n",
       "      <th>0</th>\n",
       "      <td>0</td>\n",
       "      <td>Disease-causing Microorganisms in Humans</td>\n",
       "      <td>Metamorphosis</td>\n",
       "      <td>VIII&gt;&gt;Science&gt;&gt;Microorganisms : Friend and Foe...</td>\n",
       "      <td>VIII&gt;&gt;Science&gt;&gt;Reproduction in Animals&gt;&gt;Asexua...</td>\n",
       "      <td>0.142626</td>\n",
       "      <td>1</td>\n",
       "      <td>1.0</td>\n",
       "      <td>1.0</td>\n",
       "      <td>1.0</td>\n",
       "      <td>...</td>\n",
       "      <td>0</td>\n",
       "      <td>0</td>\n",
       "      <td>0</td>\n",
       "      <td>0</td>\n",
       "      <td>0</td>\n",
       "      <td>0</td>\n",
       "      <td>0</td>\n",
       "      <td>0</td>\n",
       "      <td>0</td>\n",
       "      <td>0</td>\n",
       "    </tr>\n",
       "    <tr>\n",
       "      <th>1</th>\n",
       "      <td>1</td>\n",
       "      <td>To measure the length of the curved line using...</td>\n",
       "      <td>Velocity</td>\n",
       "      <td>VI&gt;&gt;Science&gt;&gt;Motion and Measurement of Distanc...</td>\n",
       "      <td>IX&gt;&gt;Science&gt;&gt;Motion&gt;&gt;Speed and Velocity</td>\n",
       "      <td>0.547094</td>\n",
       "      <td>1</td>\n",
       "      <td>1.0</td>\n",
       "      <td>1.0</td>\n",
       "      <td>1.0</td>\n",
       "      <td>...</td>\n",
       "      <td>0</td>\n",
       "      <td>0</td>\n",
       "      <td>0</td>\n",
       "      <td>0</td>\n",
       "      <td>0</td>\n",
       "      <td>0</td>\n",
       "      <td>0</td>\n",
       "      <td>0</td>\n",
       "      <td>0</td>\n",
       "      <td>0</td>\n",
       "    </tr>\n",
       "    <tr>\n",
       "      <th>2</th>\n",
       "      <td>0</td>\n",
       "      <td>To observe the changes when some materials are...</td>\n",
       "      <td>Ductility, good conductor of heat and electricity</td>\n",
       "      <td>IX&gt;&gt;Science&gt;&gt;Is Matter Around Us Pure&gt;&gt;Physica...</td>\n",
       "      <td>VIII&gt;&gt;Science&gt;&gt;Materials : Metals and Non-Meta...</td>\n",
       "      <td>0.525810</td>\n",
       "      <td>4</td>\n",
       "      <td>1.0</td>\n",
       "      <td>1.0</td>\n",
       "      <td>1.0</td>\n",
       "      <td>...</td>\n",
       "      <td>0</td>\n",
       "      <td>0</td>\n",
       "      <td>0</td>\n",
       "      <td>0</td>\n",
       "      <td>0</td>\n",
       "      <td>0</td>\n",
       "      <td>0</td>\n",
       "      <td>0</td>\n",
       "      <td>0</td>\n",
       "      <td>0</td>\n",
       "    </tr>\n",
       "    <tr>\n",
       "      <th>3</th>\n",
       "      <td>0</td>\n",
       "      <td>Multiple Images</td>\n",
       "      <td>Types of Images</td>\n",
       "      <td>VI&gt;&gt;Science&gt;&gt;Light, Shadows and Reflections&gt;&gt;I...</td>\n",
       "      <td>VIII&gt;&gt;Science&gt;&gt;Light&gt;&gt;Dispersion of Light</td>\n",
       "      <td>0.701908</td>\n",
       "      <td>1</td>\n",
       "      <td>0.5</td>\n",
       "      <td>0.5</td>\n",
       "      <td>0.5</td>\n",
       "      <td>...</td>\n",
       "      <td>0</td>\n",
       "      <td>0</td>\n",
       "      <td>0</td>\n",
       "      <td>0</td>\n",
       "      <td>0</td>\n",
       "      <td>0</td>\n",
       "      <td>0</td>\n",
       "      <td>0</td>\n",
       "      <td>0</td>\n",
       "      <td>0</td>\n",
       "    </tr>\n",
       "    <tr>\n",
       "      <th>4</th>\n",
       "      <td>0</td>\n",
       "      <td>Balancing of a Chemical Equation</td>\n",
       "      <td>Atoms</td>\n",
       "      <td>XI&gt;&gt;Chemistry&gt;&gt;Chemistry : Part I&gt;&gt;Some Basic ...</td>\n",
       "      <td>X&gt;&gt;Science&gt;&gt;Chemical Reactions and Equations&gt;&gt;...</td>\n",
       "      <td>0.259999</td>\n",
       "      <td>1</td>\n",
       "      <td>1.0</td>\n",
       "      <td>1.0</td>\n",
       "      <td>1.0</td>\n",
       "      <td>...</td>\n",
       "      <td>0</td>\n",
       "      <td>0</td>\n",
       "      <td>0</td>\n",
       "      <td>0</td>\n",
       "      <td>0</td>\n",
       "      <td>0</td>\n",
       "      <td>2</td>\n",
       "      <td>0</td>\n",
       "      <td>0</td>\n",
       "      <td>0</td>\n",
       "    </tr>\n",
       "  </tbody>\n",
       "</table>\n",
       "<p>5 rows × 987 columns</p>\n",
       "</div>"
      ],
      "text/plain": [
       "   label                                      pre requisite  \\\n",
       "0      0           Disease-causing Microorganisms in Humans   \n",
       "1      1  To measure the length of the curved line using...   \n",
       "2      0  To observe the changes when some materials are...   \n",
       "3      0                                    Multiple Images   \n",
       "4      0                   Balancing of a Chemical Equation   \n",
       "\n",
       "                                             concept  \\\n",
       "0                                      Metamorphosis   \n",
       "1                                           Velocity   \n",
       "2  Ductility, good conductor of heat and electricity   \n",
       "3                                    Types of Images   \n",
       "4                                              Atoms   \n",
       "\n",
       "                              pre requisite taxonomy  \\\n",
       "0  VIII>>Science>>Microorganisms : Friend and Foe...   \n",
       "1  VI>>Science>>Motion and Measurement of Distanc...   \n",
       "2  IX>>Science>>Is Matter Around Us Pure>>Physica...   \n",
       "3  VI>>Science>>Light, Shadows and Reflections>>I...   \n",
       "4  XI>>Chemistry>>Chemistry : Part I>>Some Basic ...   \n",
       "\n",
       "                                    concept taxonomy  title 12  title 12.1  \\\n",
       "0  VIII>>Science>>Reproduction in Animals>>Asexua...  0.142626           1   \n",
       "1            IX>>Science>>Motion>>Speed and Velocity  0.547094           1   \n",
       "2  VIII>>Science>>Materials : Metals and Non-Meta...  0.525810           4   \n",
       "3          VIII>>Science>>Light>>Dispersion of Light  0.701908           1   \n",
       "4  X>>Science>>Chemical Reactions and Equations>>...  0.259999           1   \n",
       "\n",
       "   title 12.2  title 12.3  title 12.4  ...  BOW 657  BOW 658  BOW 659  \\\n",
       "0         1.0         1.0         1.0  ...        0        0        0   \n",
       "1         1.0         1.0         1.0  ...        0        0        0   \n",
       "2         1.0         1.0         1.0  ...        0        0        0   \n",
       "3         0.5         0.5         0.5  ...        0        0        0   \n",
       "4         1.0         1.0         1.0  ...        0        0        0   \n",
       "\n",
       "   BOW 660  BOW 661  BOW 662  BOW 663  BOW 664  BOW 665  kfold  \n",
       "0        0        0        0        0        0        0      0  \n",
       "1        0        0        0        0        0        0      0  \n",
       "2        0        0        0        0        0        0      0  \n",
       "3        0        0        0        0        0        0      0  \n",
       "4        0        0        0        2        0        0      0  \n",
       "\n",
       "[5 rows x 987 columns]"
      ]
     },
     "execution_count": 12,
     "metadata": {},
     "output_type": "execute_result"
    }
   ],
   "source": [
    "data = pd.read_csv(os.path.join('..', 'input', 'train_folds_test.csv'))\n",
    "data.head()"
   ]
  },
  {
   "cell_type": "code",
   "execution_count": 11,
   "metadata": {},
   "outputs": [
    {
     "data": {
      "text/plain": [
       "' we observe a lot of changes in our body as we grows there are animals that made these types of changes as apart of an extremely important life process non as metamorphosis metamorphosis refers to striking change in the form or structure of an individual after hatching or birds what do you think we the human beings undergo metamorphosis no it is because in human beings body parts similar to those present in the adults are present from the time of birth you may have seen the young ones of different animals either born or hatched from the eggs have you ever notice that in some animals the young ones resemble their parents while in others the young ones who look very different from the adults let us take as simple example of silk worm as silk worm undergoes for distinct stages of development which are egg caterpillars fupa and adults the silk wrm is owiparis the female silk moth lays about three hundred to four hundred eggs in clusters upon mulbury leaves at at time the larva hatches from the eggs within tend to twelve days the larva called caterpillar goes to munching on the malbury leaves as soon as it leaves the egg it eats day and night and increases enormously inside after twenty five to thirty days the caterpillars stops eating and enters the next stage of its slide side at this stage the caterpillars spins itself in a silk cocoon to hold itself and then it swings his head from side to side here it is called apupa further development of the moth continues inside the cocoon within the cocoon the worm changes into ar moth and emoges as an adult within one to two weeks to extend our perception let us take one more example that as frog as you know there are three distinct stages in the life cycle of ar frog which are egg larva and aduls a female frog can lay up to both housed eggs in water which are glued together by ajelly like substance which protect the eggs from drying out and time the meal deposits sperms over them and thus for tilization takes place a few days later the embryo inside the eggs starts developing into ar tadpole this tadpole emerges out of the egg at at pole has at tail and gills like fish for swimming and breathing in water it looks different from an adult frog in easily that old page on the remaining youth after seven to eight days it starts swimming feeling in water and feeds on alga and water plants as it matures it grows small date loses its gills and develops lungs after a few weeks the hind limbs develop and they are followed by the for lens the head becomes more distant and the body long gates the deal keeps reducing the young frog now comes outside the water its lungs are fully developed to greed on land as it grows on sides it steel completely disappears the frog is now are fully grown adults what did you observe in body examples in both the exampals we observe that the features which are present in the adult are not found in the young ones these young ones are adapted to environments and modes of life that our different from those of the adult forms do you know what can be disignificance of these differences the dees significance of these differences is to as sore that larva and aderts of the same species do not en gate in direct competition for food or pays'"
      ]
     },
     "execution_count": 11,
     "metadata": {},
     "output_type": "execute_result"
    }
   ],
   "source": [
    "meta_data_transcript.get('Metamorphosis', default=None)"
   ]
  },
  {
   "cell_type": "code",
   "execution_count": 22,
   "metadata": {},
   "outputs": [
    {
     "name": "stdout",
     "output_type": "stream",
     "text": [
      "<__main__.Args object at 0x000002292BD31D08>\n"
     ]
    },
    {
     "data": {
      "application/vnd.jupyter.widget-view+json": {
       "model_id": "d59caed2a90945009f94e5ae91bd215f",
       "version_major": 2,
       "version_minor": 0
      },
      "text/plain": [
       "Map:   0%|          | 0/156 [00:00<?, ? examples/s]"
      ]
     },
     "metadata": {},
     "output_type": "display_data"
    },
    {
     "data": {
      "application/vnd.jupyter.widget-view+json": {
       "model_id": "396a92e3ae6848268a032b55698029b3",
       "version_major": 2,
       "version_minor": 0
      },
      "text/plain": [
       "Map:   0%|          | 0/39 [00:00<?, ? examples/s]"
      ]
     },
     "metadata": {},
     "output_type": "display_data"
    }
   ],
   "source": [
    "from datasets import Dataset\n",
    "import pandas as pd\n",
    "import os\n",
    "from transformers import AutoModel, AutoTokenizer\n",
    "import torch\n",
    "from transformers.optimization import get_linear_schedule_with_warmup\n",
    "import argparse\n",
    "from sklearn.metrics import f1_score,precision_score, recall_score\n",
    "import numpy as np\n",
    "class Args():\n",
    "    def __init__(self):\n",
    "        self.dataset = 'with_agumentation'\n",
    "        self.sentence_selection = 'transcript'\n",
    "        self.epochs = 100\n",
    "        self.model = 'bert-base-uncased'\n",
    "        self.test = True\n",
    "# # initialize the parser\n",
    "# parser = argparse.ArgumentParser(description='Training the model')\n",
    "\n",
    "# # add the parameter for selecting the dataset with or without the agumentation with the default being with agumentation also add a shotcut\n",
    "# parser.add_argument('--dataset', '-d', default='without_agumentation', choices=['with_agumentation', 'without_agumentation'], help='Select the dataset with or without the agumentation')\n",
    "\n",
    "# # add the parameter to select how the senteces are to be selected either the transcript or the extracted sentences\n",
    "# parser.add_argument('--sentence_selection', '-s', default='extracted', choices=['transcript', 'extracted'], help='Select the sentences to be used for training')\n",
    "\n",
    "# # add the parameter to select the number of epochs ( int ) default it to 10\n",
    "# parser.add_argument('--epochs', '-e', default=100, type=int, help='Select the number of epochs')\n",
    "\n",
    "# # add the parameter to select the model, it is a string\n",
    "# parser.add_argument('--model', '-m', required = True, type =str, help = 'Select the appropriate model' )\n",
    "\n",
    "# # add the parameter to enable testing the model, it is a boolean\n",
    "# parser.add_argument('--test', '-t', action='store_true', help='Enable testing the model')\n",
    "\n",
    "# # parse the arguments\n",
    "# args = parser.parse_args()\n",
    "args = Args()\n",
    "\n",
    "print(args)\n",
    "\n",
    "def convert_string_list_to_sentence(string_list):\n",
    "    # Step 1: Remove outer brackets and spaces\n",
    "    string_list = string_list.strip('[] ').strip()\n",
    "\n",
    "    # Step 2: Split the string by commas\n",
    "    elements_as_strings = string_list.split(',')\n",
    "\n",
    "    # Step 3: Strip whitespace and quotes from elements\n",
    "    python_list = [element.strip(\" ' \") for element in elements_as_strings]\n",
    "\n",
    "    return \" \".join(python_list)\n",
    "\n",
    "\n",
    "def get_sentence(video_name):\n",
    "    if args.sentence_selection == 'transcript':\n",
    "        val = meta_data_transcript.get(video_name, default=None)\n",
    "        if val is None :\n",
    "            return video_name\n",
    "        else:\n",
    "            return val\n",
    "    if args.sentence_selection == 'extracted':\n",
    "        val = meta_data_extracted.get(video_name, default=None)\n",
    "        if val is None :\n",
    "            return video_name\n",
    "        else:\n",
    "            return convert_string_list_to_sentence(val)\n",
    "    \n",
    "# set device\n",
    "device = torch.device('cuda') if torch.cuda.is_available() else torch.device('cpu')\n",
    "\n",
    "# read the train and dev datasets\n",
    "if args.test:\n",
    "    data = pd.read_csv(os.path.join('..', 'input', 'train_folds_test.csv'))\n",
    "elif args.dataset == 'with_agumentation':\n",
    "    data = pd.read_csv(os.path.join('..', 'input', 'train_folds.csv'))\n",
    "else:\n",
    "    data = pd.read_csv(os.path.join('..', 'input', 'train_folds_wo_agumentation.csv'))\n",
    "# data = pd.read_csv(os.path.join('..', 'input', 'train_folds_wo_agumentation.csv'))\n",
    "train_df = data[data['kfold'] != 1][['pre requisite', 'concept', 'label']]\n",
    "dev_df = data[data['kfold'] == 1][['pre requisite', 'concept', 'label']]\n",
    "meta_data_transcript = pd.read_csv(os.path.join('..', 'input', 'metadata.csv'), index_col='video name')['transcript']\n",
    "meta_data_extracted = pd.read_csv(os.path.join('..', 'input', 'metadata.csv'), index_col='video name')['extracted']\n",
    "\n",
    "\n",
    "train_dataset = Dataset.from_pandas(train_df).remove_columns(['__index_level_0__']).rename_column('pre requisite', 'pre_requisite')\n",
    "dev_dataset = Dataset.from_pandas(dev_df).remove_columns(['__index_level_0__']).rename_column('pre requisite', 'pre_requisite')\n",
    "\n",
    "train_dataset = train_dataset.map(lambda x: {'pre_requisite' : get_sentence(x['pre_requisite']), 'concept' : get_sentence(x['concept'])})\n",
    "\n",
    "dev_dataset = dev_dataset.map(lambda x: {'pre_requisite' : get_sentence(x['pre_requisite']), 'concept': get_sentence(x['concept'])})\n"
   ]
  },
  {
   "cell_type": "code",
   "execution_count": 23,
   "metadata": {},
   "outputs": [
    {
     "data": {
      "application/vnd.jupyter.widget-view+json": {
       "model_id": "1ea1d25218134988acb87dcf6e1978d0",
       "version_major": 2,
       "version_minor": 0
      },
      "text/plain": [
       "Map:   0%|          | 0/156 [00:00<?, ? examples/s]"
      ]
     },
     "metadata": {},
     "output_type": "display_data"
    },
    {
     "data": {
      "text/plain": [
       "420.45512820512823"
      ]
     },
     "execution_count": 23,
     "metadata": {},
     "output_type": "execute_result"
    }
   ],
   "source": [
    "np.array(train_dataset.map(lambda x: {'len of pre req' : len(x['pre_requisite'].split())})['len of pre req']).mean()"
   ]
  },
  {
   "cell_type": "code",
   "execution_count": 18,
   "metadata": {},
   "outputs": [
    {
     "data": {
      "text/plain": [
       "Dataset({\n",
       "    features: ['pre_requisite', 'concept', 'label'],\n",
       "    num_rows: 156\n",
       "})"
      ]
     },
     "execution_count": 18,
     "metadata": {},
     "output_type": "execute_result"
    }
   ],
   "source": [
    "train_dataset"
   ]
  },
  {
   "cell_type": "markdown",
   "metadata": {},
   "source": [
    "# Natural balance of dataset"
   ]
  },
  {
   "cell_type": "code",
   "execution_count": 13,
   "metadata": {},
   "outputs": [
    {
     "data": {
      "text/plain": [
       "0.6017857142857144"
      ]
     },
     "execution_count": 13,
     "metadata": {},
     "output_type": "execute_result"
    }
   ],
   "source": [
    "import pandas as pd\n",
    "import os\n",
    "data  = pd.read_csv(os.path.join('..', 'input', 'train_folds_wo_agumentation.csv'))\n",
    "data = data[data['kfold'] == 1]\n",
    "\n",
    "1 - (data.label.values.sum() / len(data))"
   ]
  },
  {
   "cell_type": "code",
   "execution_count": 12,
   "metadata": {},
   "outputs": [
    {
     "data": {
      "text/plain": [
       "0.7153846153846154"
      ]
     },
     "execution_count": 12,
     "metadata": {},
     "output_type": "execute_result"
    }
   ],
   "source": [
    "import pandas as pd\n",
    "import os\n",
    "data  = pd.read_csv(os.path.join('..', 'input', 'train_folds.csv'))\n",
    "data = data[data['kfold'] == 1]\n",
    "\n",
    "1 - (data.label.values.sum() / len(data))"
   ]
  },
  {
   "cell_type": "code",
   "execution_count": null,
   "metadata": {},
   "outputs": [],
   "source": []
  }
 ],
 "metadata": {
  "kernelspec": {
   "display_name": "ml",
   "language": "python",
   "name": "python3"
  },
  "language_info": {
   "codemirror_mode": {
    "name": "ipython",
    "version": 3
   },
   "file_extension": ".py",
   "mimetype": "text/x-python",
   "name": "python",
   "nbconvert_exporter": "python",
   "pygments_lexer": "ipython3",
   "version": "3.7.6"
  },
  "orig_nbformat": 4
 },
 "nbformat": 4,
 "nbformat_minor": 2
}
