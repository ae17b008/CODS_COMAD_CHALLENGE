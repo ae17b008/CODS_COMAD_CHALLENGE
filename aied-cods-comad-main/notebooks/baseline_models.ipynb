{
  "cells": [
    {
      "cell_type": "code",
      "execution_count": null,
      "metadata": {
        "id": "OFPoVJ2RIMCy"
      },
      "outputs": [],
      "source": [
        "import numpy as np\n",
        "import pandas as pd\n",
        "from sklearn.model_selection import cross_val_score\n",
        "from sklearn.ensemble import RandomForestClassifier\n",
        "from sklearn.ensemble import ExtraTreesClassifier\n",
        "from sklearn.linear_model import LogisticRegression\n",
        "from sklearn.preprocessing import StandardScaler\n",
        "from sklearn.model_selection import train_test_split\n",
        "from sklearn.metrics import f1_score\n",
        "from sklearn.svm import SVC\n",
        "\n",
        "pd.options.mode.chained_assignment = None"
      ]
    },
    {
      "cell_type": "code",
      "execution_count": null,
      "metadata": {
        "colab": {
          "base_uri": "https://localhost:8080/"
        },
        "id": "mCo6cPo4IfFk",
        "outputId": "c3fed658-3c07-451f-933a-b7fe400d9600"
      },
      "outputs": [
        {
          "output_type": "stream",
          "name": "stdout",
          "text": [
            "(2797, 986)\n",
            "(614, 986)\n"
          ]
        }
      ],
      "source": [
        "train = pd.read_csv(\"./Data/train.csv\")\n",
        "test = pd.read_csv(\"./Data/test.csv\")\n",
        "print(train.shape)\n",
        "print(test.shape)\n",
        "#train.head()"
      ]
    },
    {
      "cell_type": "code",
      "execution_count": null,
      "metadata": {
        "id": "ocy-BDzzIquv"
      },
      "outputs": [],
      "source": [
        "cols = train.columns[0:5]\n",
        "y = train['label']\n",
        "train.drop(columns=cols,inplace=True)\n",
        "#train.describe()"
      ]
    },
    {
      "cell_type": "code",
      "execution_count": null,
      "metadata": {
        "id": "d_vO1uNqIxM_"
      },
      "outputs": [],
      "source": [
        "scaler = StandardScaler()\n",
        "X = scaler.fit_transform(train)"
      ]
    },
    {
      "cell_type": "code",
      "execution_count": null,
      "metadata": {
        "id": "Xd0zaESfawUL"
      },
      "outputs": [],
      "source": [
        "cols = test.columns[0:5]\n",
        "id = test[['ID']]\n",
        "test.drop(columns=cols,inplace=True)\n",
        "Xtest = scaler.transform(test)"
      ]
    },
    {
      "cell_type": "markdown",
      "metadata": {
        "id": "6OTbp8xgWNVn"
      },
      "source": [
        "####1. Logistic regression"
      ]
    },
    {
      "cell_type": "code",
      "execution_count": null,
      "metadata": {
        "colab": {
          "base_uri": "https://localhost:8080/"
        },
        "id": "yUF8jTx4Ix6p",
        "outputId": "e5747dea-e80f-47eb-8bdc-aba6ebaa1742"
      },
      "outputs": [
        {
          "output_type": "stream",
          "name": "stdout",
          "text": [
            "C : 1 Score : 0.5965253838684129\n"
          ]
        }
      ],
      "source": [
        "#Parameter tuning\n",
        "bScore = 0\n",
        "cVal = -1\n",
        "pSpace = np.arange(0.1,2,0.1)\n",
        "for c in pSpace:\n",
        "  model = LogisticRegression(random_state=0,max_iter=1000,C=c)\n",
        "  scores = cross_val_score(model, X, y, cv=5, scoring=\"f1\")\n",
        "  mScore = scores.mean()\n",
        "  if mScore>bScore:\n",
        "    bScore = mScore\n",
        "    cVal = c\n",
        "print(f\"C : {cVal} Score : {bScore}\")"
      ]
    },
    {
      "cell_type": "code",
      "execution_count": null,
      "metadata": {
        "id": "ii8fajKIZbm8"
      },
      "outputs": [],
      "source": [
        "model = LogisticRegression(random_state=0,max_iter=1000,C=1).fit(X,y)\n",
        "id['label'] = model.predict(Xtest)\n",
        "#id.to_csv(\"./Results/Pred_LR.csv\",index=False)"
      ]
    },
    {
      "cell_type": "code",
      "execution_count": null,
      "metadata": {
        "colab": {
          "base_uri": "https://localhost:8080/"
        },
        "id": "REXgBDjyz-CT",
        "outputId": "c729426e-4ae9-469a-e6de-71305d16fef3"
      },
      "outputs": [
        {
          "output_type": "stream",
          "name": "stdout",
          "text": [
            "('BOW 556', 1.5566062962000449)\n",
            "('BOW 179', 1.0805307399045896)\n",
            "('title content 21.1', 1.0556612896766293)\n",
            "('BOW 436', 1.0479340628636307)\n",
            "('similar similar 12.1', 1.0369063157652054)\n",
            "('title content start 12.1', 1.035694173117478)\n",
            "('BOW 653', 1.006027689098631)\n",
            "('extracted extracted 12.11', 1.0009042440238103)\n",
            "('similar similar 21.3', 0.9521374957244352)\n",
            "('BOW 389', 0.9455135326189658)\n",
            "('BOW 115', 0.8891165349915321)\n",
            "('title 12', 0.8796219746959211)\n",
            "('links links 21.2', 0.8774736076387655)\n",
            "('BOW 431', 0.8770740037500787)\n",
            "('title content 12.3', 0.858098003832005)\n",
            "('BOW 403', 0.8130736490516094)\n",
            "('similar title 12', 0.8016624686074214)\n",
            "('BOW 516', 0.7930259680823858)\n",
            "('similar title 21.10', 0.789600040648109)\n",
            "('BOW 381', 0.738694390413435)\n"
          ]
        }
      ],
      "source": [
        "z=[(x,y) for y,x in sorted(zip(model.coef_[0,:],train.columns),reverse=True)]\n",
        "print(*z[:20],sep=\"\\n\")"
      ]
    },
    {
      "cell_type": "markdown",
      "metadata": {
        "id": "ZvEfz-fW8pzI"
      },
      "source": [
        "### 2. Random forests"
      ]
    },
    {
      "cell_type": "code",
      "execution_count": null,
      "metadata": {
        "colab": {
          "base_uri": "https://localhost:8080/"
        },
        "id": "zrMhz_LX3zHS",
        "outputId": "0a7015f2-54cf-498f-a170-de6ab85274f6"
      },
      "outputs": [
        {
          "output_type": "stream",
          "name": "stdout",
          "text": [
            "N_estimators : 400 Max_depth : 17 Score : 0.6501174061784597\n"
          ]
        }
      ],
      "source": [
        "#Parameter tuning\n",
        "bScore = 0\n",
        "p1Val = -1\n",
        "p2Val = -1\n",
        "p1Space = np.arange(100,800,100)\n",
        "p2Space = np.arange(15,20,1)\n",
        "for p1 in p1Space:\n",
        "  for p2 in p2Space:\n",
        "    model = RandomForestClassifier(n_estimators=p1, max_depth=p2, random_state=0)\n",
        "    scores = cross_val_score(model, X, y, cv=5, scoring=\"f1\")\n",
        "    mScore = scores.mean()\n",
        "    if mScore>bScore:\n",
        "      bScore = mScore\n",
        "      p1Val = p1\n",
        "      p2Val = p2\n",
        "print(f\"N_estimators : {p1Val} Max_depth : {p2Val} Score : {bScore}\")"
      ]
    },
    {
      "cell_type": "code",
      "execution_count": null,
      "metadata": {
        "id": "Wi3_DAXE82SX"
      },
      "outputs": [],
      "source": [
        "model = RandomForestClassifier(n_estimators=400, max_depth=17, random_state=0).fit(X,y)\n",
        "id['label'] = model.predict(Xtest)\n",
        "#id.to_csv(\"./Results/Pred_RF.csv\",index=False)"
      ]
    },
    {
      "cell_type": "code",
      "execution_count": null,
      "metadata": {
        "id": "lwUCTd_T82YQ",
        "colab": {
          "base_uri": "https://localhost:8080/"
        },
        "outputId": "fc67f86d-7a6b-4bee-9bab-8210e6c24a5d"
      },
      "outputs": [
        {
          "output_type": "stream",
          "name": "stdout",
          "text": [
            "('title content 12.3', 0.020851131450087487)\n",
            "('links links 12.1', 0.014240226471088873)\n",
            "('links links 21.1', 0.013932188281713533)\n",
            "('links links 21.5', 0.012304120816630912)\n",
            "('title content start 12.3', 0.011451009132996624)\n",
            "('content sim.1', 0.010937609451023862)\n",
            "('content sim', 0.01089424555815265)\n",
            "('title content 21.3', 0.009910955951348574)\n",
            "('title content 12.4', 0.009605613345423881)\n",
            "('links links 12.5', 0.00850114581424582)\n",
            "('links title 12', 0.008422019796471138)\n",
            "('title content 21.7', 0.008408045270684906)\n",
            "('title 12', 0.008389198018399952)\n",
            "('links links 12', 0.008310969499731388)\n",
            "('title content 12.1', 0.00806078139870096)\n",
            "('title content 21.8', 0.007796981648684179)\n",
            "('links title 12.1', 0.00762567388763995)\n",
            "('title content 21.4', 0.007124185637265965)\n",
            "('title content 12.5', 0.007117845478346589)\n",
            "('title content 12.6', 0.007076412588528119)\n"
          ]
        }
      ],
      "source": [
        "z=[(x,y) for y,x in sorted(zip(model.feature_importances_,train.columns),reverse=True)]\n",
        "print(*z[:20],sep=\"\\n\")"
      ]
    },
    {
      "cell_type": "markdown",
      "metadata": {
        "id": "9dXJj4nhg7TA"
      },
      "source": [
        "### 3. ExtraTrees"
      ]
    },
    {
      "cell_type": "code",
      "execution_count": null,
      "metadata": {
        "colab": {
          "base_uri": "https://localhost:8080/"
        },
        "outputId": "31d8cfb6-41d0-46e6-b2a3-fdc42063e7cd",
        "id": "AIYcx7Hsg7TA"
      },
      "outputs": [
        {
          "output_type": "stream",
          "name": "stdout",
          "text": [
            "N_estimators : 150 Max_depth : 22 Score : 0.651221488605764\n"
          ]
        }
      ],
      "source": [
        "#Parameter tuning\n",
        "bScore = 0\n",
        "p1Val = -1\n",
        "p2Val = -1\n",
        "p1Space = np.arange(100,600,50)\n",
        "p2Space = np.arange(16,25,1)\n",
        "for p1 in p1Space:\n",
        "  for p2 in p2Space:\n",
        "    model = ExtraTreesClassifier(n_estimators=p1, max_depth=p2, random_state=0)\n",
        "    scores = cross_val_score(model, X, y, cv=5, scoring=\"f1\")\n",
        "    mScore = scores.mean()\n",
        "    if mScore>bScore:\n",
        "      bScore = mScore\n",
        "      p1Val = p1\n",
        "      p2Val = p2\n",
        "print(f\"N_estimators : {p1Val} Max_depth : {p2Val} Score : {bScore}\")"
      ]
    },
    {
      "cell_type": "code",
      "execution_count": null,
      "metadata": {
        "id": "JeYS1olGg7TB"
      },
      "outputs": [],
      "source": [
        "model = ExtraTreesClassifier(n_estimators=p1Val, max_depth=p2Val, random_state=0).fit(X,y)\n",
        "id['label'] = model.predict(Xtest)\n",
        "#id.to_csv(\"./Results/Pred_ET.csv\",index=False)"
      ]
    },
    {
      "cell_type": "code",
      "execution_count": null,
      "metadata": {
        "colab": {
          "base_uri": "https://localhost:8080/"
        },
        "outputId": "778dc485-c69d-4eb3-eec3-973fbc1a7d98",
        "id": "0uMwmAZ_g7TB"
      },
      "outputs": [
        {
          "output_type": "stream",
          "name": "stdout",
          "text": [
            "('title content 12.3', 0.014671437369268086)\n",
            "('title content start 12.3', 0.01042361812058658)\n",
            "('BOW 359', 0.00899295542747171)\n",
            "('links links 12.1', 0.008772747955915573)\n",
            "('title 12', 0.008375940617386501)\n",
            "('links title 12.6', 0.00822563210217273)\n",
            "('links links 21.1', 0.007519675721107407)\n",
            "('links title 21.5', 0.007505993561191141)\n",
            "('title content 21.3', 0.0074277433201988315)\n",
            "('title content 12.9', 0.00607161461251757)\n",
            "('content sim', 0.006059709668084181)\n",
            "('content sim.1', 0.005951962780965822)\n",
            "('title content start 21.3', 0.005762616889080573)\n",
            "('title content 12.6', 0.0057290127693166845)\n",
            "('links title 12.7', 0.005727057592856329)\n",
            "('title 12.10', 0.005708057851403439)\n",
            "('links title 21.6', 0.005394213581507397)\n",
            "('title content start 12.1', 0.0051305349551598635)\n",
            "('title content start 12.9', 0.005081110049577824)\n",
            "('links title 12.5', 0.005008840900804355)\n"
          ]
        }
      ],
      "source": [
        "z=[(x,y) for y,x in sorted(zip(model.feature_importances_,train.columns),reverse=True)]\n",
        "print(*z[:20],sep=\"\\n\")"
      ]
    },
    {
      "cell_type": "markdown",
      "metadata": {
        "id": "OzHhVi38k1FW"
      },
      "source": [
        "####4. SVM"
      ]
    },
    {
      "cell_type": "code",
      "execution_count": null,
      "metadata": {
        "colab": {
          "base_uri": "https://localhost:8080/"
        },
        "outputId": "69017072-67c5-4388-9bab-678701d4b1bc",
        "id": "EEemevrbk1FW"
      },
      "outputs": [
        {
          "output_type": "stream",
          "name": "stdout",
          "text": [
            "C : 1.3000000000000003 Score : 0.642490605844281\n"
          ]
        }
      ],
      "source": [
        "#Parameter tuning\n",
        "bScore = 0\n",
        "cVal = -1\n",
        "pSpace = np.arange(0.1,2,0.1)\n",
        "for c in pSpace:\n",
        "  model = SVC(random_state=0,C=c,kernel='sigmoid')\n",
        "  scores = cross_val_score(model, X, y, cv=5, scoring=\"f1\")\n",
        "  mScore = scores.mean()\n",
        "  if mScore>bScore:\n",
        "    bScore = mScore\n",
        "    cVal = c\n",
        "print(f\"C : {cVal} Score : {bScore}\")"
      ]
    },
    {
      "cell_type": "code",
      "execution_count": null,
      "metadata": {
        "id": "SVkk1co9k1FX"
      },
      "outputs": [],
      "source": [
        "model = SVC(random_state=0,C=1.3,kernel='sigmoid').fit(X,y)\n",
        "id['label'] = model.predict(Xtest)\n",
        "#id.to_csv(\"./Results/Pred_SVC.csv\",index=False)"
      ]
    },
    {
      "cell_type": "code",
      "source": [],
      "metadata": {
        "id": "J4X246lmw0R_"
      },
      "execution_count": null,
      "outputs": []
    },
    {
      "cell_type": "code",
      "source": [],
      "metadata": {
        "id": "Z2rt4IR2rUla"
      },
      "execution_count": null,
      "outputs": []
    }
  ],
  "metadata": {
    "colab": {
      "provenance": []
    },
    "kernelspec": {
      "display_name": "Python 3",
      "name": "python3"
    },
    "language_info": {
      "name": "python"
    }
  },
  "nbformat": 4,
  "nbformat_minor": 0
}
